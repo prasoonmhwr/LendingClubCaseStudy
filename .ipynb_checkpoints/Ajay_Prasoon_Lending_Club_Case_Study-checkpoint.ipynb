{
 "cells": [
  {
   "cell_type": "markdown",
   "id": "dc656de4",
   "metadata": {},
   "source": [
    "# Problem Statement"
   ]
  },
  {
   "cell_type": "markdown",
   "id": "18bd9e18",
   "metadata": {},
   "source": [
    "Risk Anaylsis for lending loans to the consumer, by considering the possibility of a consumer to be a defaulter on the basis of data provided"
   ]
  },
  {
   "cell_type": "markdown",
   "id": "e86b512d",
   "metadata": {},
   "source": [
    "### Importing Libraries"
   ]
  },
  {
   "cell_type": "code",
   "execution_count": 1,
   "id": "33957215",
   "metadata": {},
   "outputs": [],
   "source": [
    "import numpy as np\n",
    "import pandas as pd\n",
    "import matplotlib.pyplot as plt\n",
    "import seaborn as sns"
   ]
  },
  {
   "cell_type": "markdown",
   "id": "ed5b2972",
   "metadata": {},
   "source": [
    "### Importing data for Understanding"
   ]
  },
  {
   "cell_type": "code",
   "execution_count": 2,
   "id": "ed223024",
   "metadata": {},
   "outputs": [
    {
     "name": "stderr",
     "output_type": "stream",
     "text": [
      "/var/folders/6v/wpfttkpx5s73dfb_kzj6dwj00000gn/T/ipykernel_68187/3318210521.py:1: DtypeWarning: Columns (47) have mixed types. Specify dtype option on import or set low_memory=False.\n",
      "  df = pd.read_csv('loan.csv')\n"
     ]
    },
    {
     "data": {
      "text/html": [
       "<div>\n",
       "<style scoped>\n",
       "    .dataframe tbody tr th:only-of-type {\n",
       "        vertical-align: middle;\n",
       "    }\n",
       "\n",
       "    .dataframe tbody tr th {\n",
       "        vertical-align: top;\n",
       "    }\n",
       "\n",
       "    .dataframe thead th {\n",
       "        text-align: right;\n",
       "    }\n",
       "</style>\n",
       "<table border=\"1\" class=\"dataframe\">\n",
       "  <thead>\n",
       "    <tr style=\"text-align: right;\">\n",
       "      <th></th>\n",
       "      <th>id</th>\n",
       "      <th>member_id</th>\n",
       "      <th>loan_amnt</th>\n",
       "      <th>funded_amnt</th>\n",
       "      <th>funded_amnt_inv</th>\n",
       "      <th>term</th>\n",
       "      <th>int_rate</th>\n",
       "      <th>installment</th>\n",
       "      <th>grade</th>\n",
       "      <th>sub_grade</th>\n",
       "      <th>...</th>\n",
       "      <th>num_tl_90g_dpd_24m</th>\n",
       "      <th>num_tl_op_past_12m</th>\n",
       "      <th>pct_tl_nvr_dlq</th>\n",
       "      <th>percent_bc_gt_75</th>\n",
       "      <th>pub_rec_bankruptcies</th>\n",
       "      <th>tax_liens</th>\n",
       "      <th>tot_hi_cred_lim</th>\n",
       "      <th>total_bal_ex_mort</th>\n",
       "      <th>total_bc_limit</th>\n",
       "      <th>total_il_high_credit_limit</th>\n",
       "    </tr>\n",
       "  </thead>\n",
       "  <tbody>\n",
       "    <tr>\n",
       "      <th>0</th>\n",
       "      <td>1077501</td>\n",
       "      <td>1296599</td>\n",
       "      <td>5000</td>\n",
       "      <td>5000</td>\n",
       "      <td>4975.0</td>\n",
       "      <td>36 months</td>\n",
       "      <td>10.65%</td>\n",
       "      <td>162.87</td>\n",
       "      <td>B</td>\n",
       "      <td>B2</td>\n",
       "      <td>...</td>\n",
       "      <td>NaN</td>\n",
       "      <td>NaN</td>\n",
       "      <td>NaN</td>\n",
       "      <td>NaN</td>\n",
       "      <td>0.0</td>\n",
       "      <td>0.0</td>\n",
       "      <td>NaN</td>\n",
       "      <td>NaN</td>\n",
       "      <td>NaN</td>\n",
       "      <td>NaN</td>\n",
       "    </tr>\n",
       "    <tr>\n",
       "      <th>1</th>\n",
       "      <td>1077430</td>\n",
       "      <td>1314167</td>\n",
       "      <td>2500</td>\n",
       "      <td>2500</td>\n",
       "      <td>2500.0</td>\n",
       "      <td>60 months</td>\n",
       "      <td>15.27%</td>\n",
       "      <td>59.83</td>\n",
       "      <td>C</td>\n",
       "      <td>C4</td>\n",
       "      <td>...</td>\n",
       "      <td>NaN</td>\n",
       "      <td>NaN</td>\n",
       "      <td>NaN</td>\n",
       "      <td>NaN</td>\n",
       "      <td>0.0</td>\n",
       "      <td>0.0</td>\n",
       "      <td>NaN</td>\n",
       "      <td>NaN</td>\n",
       "      <td>NaN</td>\n",
       "      <td>NaN</td>\n",
       "    </tr>\n",
       "    <tr>\n",
       "      <th>2</th>\n",
       "      <td>1077175</td>\n",
       "      <td>1313524</td>\n",
       "      <td>2400</td>\n",
       "      <td>2400</td>\n",
       "      <td>2400.0</td>\n",
       "      <td>36 months</td>\n",
       "      <td>15.96%</td>\n",
       "      <td>84.33</td>\n",
       "      <td>C</td>\n",
       "      <td>C5</td>\n",
       "      <td>...</td>\n",
       "      <td>NaN</td>\n",
       "      <td>NaN</td>\n",
       "      <td>NaN</td>\n",
       "      <td>NaN</td>\n",
       "      <td>0.0</td>\n",
       "      <td>0.0</td>\n",
       "      <td>NaN</td>\n",
       "      <td>NaN</td>\n",
       "      <td>NaN</td>\n",
       "      <td>NaN</td>\n",
       "    </tr>\n",
       "    <tr>\n",
       "      <th>3</th>\n",
       "      <td>1076863</td>\n",
       "      <td>1277178</td>\n",
       "      <td>10000</td>\n",
       "      <td>10000</td>\n",
       "      <td>10000.0</td>\n",
       "      <td>36 months</td>\n",
       "      <td>13.49%</td>\n",
       "      <td>339.31</td>\n",
       "      <td>C</td>\n",
       "      <td>C1</td>\n",
       "      <td>...</td>\n",
       "      <td>NaN</td>\n",
       "      <td>NaN</td>\n",
       "      <td>NaN</td>\n",
       "      <td>NaN</td>\n",
       "      <td>0.0</td>\n",
       "      <td>0.0</td>\n",
       "      <td>NaN</td>\n",
       "      <td>NaN</td>\n",
       "      <td>NaN</td>\n",
       "      <td>NaN</td>\n",
       "    </tr>\n",
       "    <tr>\n",
       "      <th>4</th>\n",
       "      <td>1075358</td>\n",
       "      <td>1311748</td>\n",
       "      <td>3000</td>\n",
       "      <td>3000</td>\n",
       "      <td>3000.0</td>\n",
       "      <td>60 months</td>\n",
       "      <td>12.69%</td>\n",
       "      <td>67.79</td>\n",
       "      <td>B</td>\n",
       "      <td>B5</td>\n",
       "      <td>...</td>\n",
       "      <td>NaN</td>\n",
       "      <td>NaN</td>\n",
       "      <td>NaN</td>\n",
       "      <td>NaN</td>\n",
       "      <td>0.0</td>\n",
       "      <td>0.0</td>\n",
       "      <td>NaN</td>\n",
       "      <td>NaN</td>\n",
       "      <td>NaN</td>\n",
       "      <td>NaN</td>\n",
       "    </tr>\n",
       "  </tbody>\n",
       "</table>\n",
       "<p>5 rows × 111 columns</p>\n",
       "</div>"
      ],
      "text/plain": [
       "        id  member_id  loan_amnt  funded_amnt  funded_amnt_inv        term  \\\n",
       "0  1077501    1296599       5000         5000           4975.0   36 months   \n",
       "1  1077430    1314167       2500         2500           2500.0   60 months   \n",
       "2  1077175    1313524       2400         2400           2400.0   36 months   \n",
       "3  1076863    1277178      10000        10000          10000.0   36 months   \n",
       "4  1075358    1311748       3000         3000           3000.0   60 months   \n",
       "\n",
       "  int_rate  installment grade sub_grade  ... num_tl_90g_dpd_24m  \\\n",
       "0   10.65%       162.87     B        B2  ...                NaN   \n",
       "1   15.27%        59.83     C        C4  ...                NaN   \n",
       "2   15.96%        84.33     C        C5  ...                NaN   \n",
       "3   13.49%       339.31     C        C1  ...                NaN   \n",
       "4   12.69%        67.79     B        B5  ...                NaN   \n",
       "\n",
       "  num_tl_op_past_12m pct_tl_nvr_dlq  percent_bc_gt_75 pub_rec_bankruptcies  \\\n",
       "0                NaN            NaN               NaN                  0.0   \n",
       "1                NaN            NaN               NaN                  0.0   \n",
       "2                NaN            NaN               NaN                  0.0   \n",
       "3                NaN            NaN               NaN                  0.0   \n",
       "4                NaN            NaN               NaN                  0.0   \n",
       "\n",
       "  tax_liens tot_hi_cred_lim total_bal_ex_mort total_bc_limit  \\\n",
       "0       0.0             NaN               NaN            NaN   \n",
       "1       0.0             NaN               NaN            NaN   \n",
       "2       0.0             NaN               NaN            NaN   \n",
       "3       0.0             NaN               NaN            NaN   \n",
       "4       0.0             NaN               NaN            NaN   \n",
       "\n",
       "  total_il_high_credit_limit  \n",
       "0                        NaN  \n",
       "1                        NaN  \n",
       "2                        NaN  \n",
       "3                        NaN  \n",
       "4                        NaN  \n",
       "\n",
       "[5 rows x 111 columns]"
      ]
     },
     "execution_count": 2,
     "metadata": {},
     "output_type": "execute_result"
    }
   ],
   "source": [
    "df = pd.read_csv('loan.csv')\n",
    "df.head()"
   ]
  },
  {
   "cell_type": "markdown",
   "id": "3ccf5a6f",
   "metadata": {},
   "source": [
    "### Analysing data of each column"
   ]
  },
  {
   "cell_type": "code",
   "execution_count": 3,
   "id": "a48a08ac",
   "metadata": {},
   "outputs": [
    {
     "data": {
      "text/plain": [
       "id                              int64\n",
       "member_id                       int64\n",
       "loan_amnt                       int64\n",
       "funded_amnt                     int64\n",
       "funded_amnt_inv               float64\n",
       "                               ...   \n",
       "tax_liens                     float64\n",
       "tot_hi_cred_lim               float64\n",
       "total_bal_ex_mort             float64\n",
       "total_bc_limit                float64\n",
       "total_il_high_credit_limit    float64\n",
       "Length: 111, dtype: object"
      ]
     },
     "execution_count": 3,
     "metadata": {},
     "output_type": "execute_result"
    }
   ],
   "source": [
    "df.dtypes"
   ]
  },
  {
   "cell_type": "code",
   "execution_count": 4,
   "id": "57fddb33",
   "metadata": {},
   "outputs": [
    {
     "data": {
      "text/plain": [
       "Index(['id', 'member_id', 'loan_amnt', 'funded_amnt', 'funded_amnt_inv',\n",
       "       'term', 'int_rate', 'installment', 'grade', 'sub_grade',\n",
       "       ...\n",
       "       'num_tl_90g_dpd_24m', 'num_tl_op_past_12m', 'pct_tl_nvr_dlq',\n",
       "       'percent_bc_gt_75', 'pub_rec_bankruptcies', 'tax_liens',\n",
       "       'tot_hi_cred_lim', 'total_bal_ex_mort', 'total_bc_limit',\n",
       "       'total_il_high_credit_limit'],\n",
       "      dtype='object', length=111)"
      ]
     },
     "execution_count": 4,
     "metadata": {},
     "output_type": "execute_result"
    }
   ],
   "source": [
    "df.columns"
   ]
  },
  {
   "cell_type": "code",
   "execution_count": 5,
   "id": "c1b7b57b",
   "metadata": {},
   "outputs": [
    {
     "data": {
      "text/plain": [
       "(39717, 111)"
      ]
     },
     "execution_count": 5,
     "metadata": {},
     "output_type": "execute_result"
    }
   ],
   "source": [
    "df.shape"
   ]
  },
  {
   "cell_type": "code",
   "execution_count": 6,
   "id": "b02dbd26",
   "metadata": {},
   "outputs": [
    {
     "data": {
      "text/plain": [
       "id                                0\n",
       "member_id                         0\n",
       "loan_amnt                         0\n",
       "funded_amnt                       0\n",
       "funded_amnt_inv                   0\n",
       "                              ...  \n",
       "tax_liens                        39\n",
       "tot_hi_cred_lim               39717\n",
       "total_bal_ex_mort             39717\n",
       "total_bc_limit                39717\n",
       "total_il_high_credit_limit    39717\n",
       "Length: 111, dtype: int64"
      ]
     },
     "execution_count": 6,
     "metadata": {},
     "output_type": "execute_result"
    }
   ],
   "source": [
    "df.isnull().sum()"
   ]
  },
  {
   "cell_type": "markdown",
   "id": "1e2fb46e",
   "metadata": {},
   "source": [
    "## Data Cleaning"
   ]
  },
  {
   "cell_type": "markdown",
   "id": "86275848",
   "metadata": {},
   "source": [
    "### Checking for duplicate data"
   ]
  },
  {
   "cell_type": "code",
   "execution_count": 7,
   "id": "fb321a9f",
   "metadata": {},
   "outputs": [
    {
     "data": {
      "text/plain": [
       "0"
      ]
     },
     "execution_count": 7,
     "metadata": {},
     "output_type": "execute_result"
    }
   ],
   "source": [
    "df.duplicated(\"id\").sum()"
   ]
  },
  {
   "cell_type": "markdown",
   "id": "cf7659d5",
   "metadata": {},
   "source": [
    "### Checking for empty rows"
   ]
  },
  {
   "cell_type": "code",
   "execution_count": 8,
   "id": "50ff466c",
   "metadata": {},
   "outputs": [
    {
     "data": {
      "text/plain": [
       "0"
      ]
     },
     "execution_count": 8,
     "metadata": {},
     "output_type": "execute_result"
    }
   ],
   "source": [
    "df.isnull().all(axis=1).sum()"
   ]
  },
  {
   "cell_type": "markdown",
   "id": "fd1a9748",
   "metadata": {},
   "source": [
    "### Checking for empty columns"
   ]
  },
  {
   "cell_type": "code",
   "execution_count": 9,
   "id": "128a0a56",
   "metadata": {},
   "outputs": [
    {
     "data": {
      "text/plain": [
       "54"
      ]
     },
     "execution_count": 9,
     "metadata": {},
     "output_type": "execute_result"
    }
   ],
   "source": [
    "df.isnull().all(axis=0).sum()"
   ]
  },
  {
   "cell_type": "markdown",
   "id": "e7e168bc",
   "metadata": {},
   "source": [
    "### Some of the columns appears to be empty so we can drop those"
   ]
  },
  {
   "cell_type": "code",
   "execution_count": 10,
   "id": "a91d600b",
   "metadata": {},
   "outputs": [],
   "source": [
    "df.dropna(axis=1,how=\"all\", inplace=True)\n"
   ]
  },
  {
   "cell_type": "code",
   "execution_count": 11,
   "id": "41cd0eca",
   "metadata": {},
   "outputs": [
    {
     "data": {
      "text/plain": [
       "id                             0.000000\n",
       "member_id                      0.000000\n",
       "loan_amnt                      0.000000\n",
       "funded_amnt                    0.000000\n",
       "funded_amnt_inv                0.000000\n",
       "term                           0.000000\n",
       "int_rate                       0.000000\n",
       "installment                    0.000000\n",
       "grade                          0.000000\n",
       "sub_grade                      0.000000\n",
       "emp_title                      6.191303\n",
       "emp_length                     2.706650\n",
       "home_ownership                 0.000000\n",
       "annual_inc                     0.000000\n",
       "verification_status            0.000000\n",
       "issue_d                        0.000000\n",
       "loan_status                    0.000000\n",
       "pymnt_plan                     0.000000\n",
       "url                            0.000000\n",
       "desc                          32.580507\n",
       "purpose                        0.000000\n",
       "title                          0.027696\n",
       "zip_code                       0.000000\n",
       "addr_state                     0.000000\n",
       "dti                            0.000000\n",
       "delinq_2yrs                    0.000000\n",
       "earliest_cr_line               0.000000\n",
       "inq_last_6mths                 0.000000\n",
       "mths_since_last_delinq        64.662487\n",
       "mths_since_last_record        92.985372\n",
       "open_acc                       0.000000\n",
       "pub_rec                        0.000000\n",
       "revol_bal                      0.000000\n",
       "revol_util                     0.125891\n",
       "total_acc                      0.000000\n",
       "initial_list_status            0.000000\n",
       "out_prncp                      0.000000\n",
       "out_prncp_inv                  0.000000\n",
       "total_pymnt                    0.000000\n",
       "total_pymnt_inv                0.000000\n",
       "total_rec_prncp                0.000000\n",
       "total_rec_int                  0.000000\n",
       "total_rec_late_fee             0.000000\n",
       "recoveries                     0.000000\n",
       "collection_recovery_fee        0.000000\n",
       "last_pymnt_d                   0.178765\n",
       "last_pymnt_amnt                0.000000\n",
       "next_pymnt_d                  97.129693\n",
       "last_credit_pull_d             0.005036\n",
       "collections_12_mths_ex_med     0.140998\n",
       "policy_code                    0.000000\n",
       "application_type               0.000000\n",
       "acc_now_delinq                 0.000000\n",
       "chargeoff_within_12_mths       0.140998\n",
       "delinq_amnt                    0.000000\n",
       "pub_rec_bankruptcies           1.754916\n",
       "tax_liens                      0.098195\n",
       "dtype: float64"
      ]
     },
     "execution_count": 11,
     "metadata": {},
     "output_type": "execute_result"
    }
   ],
   "source": [
    "df.isnull().mean()*100"
   ]
  },
  {
   "cell_type": "markdown",
   "id": "9403c359",
   "metadata": {},
   "source": [
    "### Columns which are not relevant for analysis\n",
    "\n",
    " \n",
    " - id - It doesn't add any value to the analysis\n",
    " - member_id - It doesn't add any value to the analysis\n",
    " - pymnt_plan - Since it just consist value as 'n' so it wont contribute in the analysis\n",
    " - url - It is just a link to a document so can be dropped\n",
    " - desc - It is just the comment of applying loan\n",
    " - title - It is custom text entered by the borrower\n",
    " - zip_code - Its to specific to perform analysis on\n",
    " - initial_list_status - Since it just consist value as 'f' so it wont contribute in the analysis\n",
    " - next_pymnt_d - Since 97% of the rows are null so we can drop it\n",
    " - collections_12_mths_ex_med - Since it just consist value as '0.0' so it wont contribute in the analysis\n",
    " - policy_code - Since it just consist value as 1 so it wont contribute in the analysis\n",
    " - application_type - Since it just consist value as 'INDIVIDUAL' so it wont contribute in the analysis\n",
    " - acc_now_delinq - Since it just consist value as 0 so it wont contribute in the analysis\n",
    " - chargeoff_within_12_mths - Since it just consist value as 0.0 so it wont contribute in the analysis\n",
    " - delinq_amnt - Since it just consist value as 0 so it wont contribute in the analysis\n",
    " - pub_rec_bankruptcies - Majority of the value is 0 so can be dropped\n",
    " - tax_liens - Since it just consist value as 0.0 so it wont contribute in the analysis\n",
    " - mths_since_last_delinq - Since the empty value percentage is more than 40% so we can drop this\n",
    " - mths_since_last_record - Since the empty value percentage is more than 40% so we can drop this\n",
    " - emp_title - Too much random values for analysis\n",
    " \n"
   ]
  },
  {
   "cell_type": "code",
   "execution_count": 12,
   "id": "e26f8069",
   "metadata": {},
   "outputs": [],
   "source": [
    "df.drop(columns=['id','member_id','pymnt_plan','url','desc', 'title','zip_code','initial_list_status','next_pymnt_d','collections_12_mths_ex_med','policy_code','application_type','acc_now_delinq','chargeoff_within_12_mths','delinq_amnt','pub_rec_bankruptcies','tax_liens','mths_since_last_delinq','mths_since_last_record','emp_title'], inplace=True)"
   ]
  },
  {
   "cell_type": "code",
   "execution_count": 13,
   "id": "a189ac36",
   "metadata": {},
   "outputs": [
    {
     "data": {
      "text/plain": [
       "(39717, 37)"
      ]
     },
     "execution_count": 13,
     "metadata": {},
     "output_type": "execute_result"
    }
   ],
   "source": [
    "df.shape"
   ]
  },
  {
   "cell_type": "code",
   "execution_count": 14,
   "id": "15d3a56e",
   "metadata": {},
   "outputs": [
    {
     "data": {
      "text/plain": [
       "loan_amnt                  0.000000\n",
       "funded_amnt                0.000000\n",
       "funded_amnt_inv            0.000000\n",
       "term                       0.000000\n",
       "int_rate                   0.000000\n",
       "installment                0.000000\n",
       "grade                      0.000000\n",
       "sub_grade                  0.000000\n",
       "emp_length                 2.706650\n",
       "home_ownership             0.000000\n",
       "annual_inc                 0.000000\n",
       "verification_status        0.000000\n",
       "issue_d                    0.000000\n",
       "loan_status                0.000000\n",
       "purpose                    0.000000\n",
       "addr_state                 0.000000\n",
       "dti                        0.000000\n",
       "delinq_2yrs                0.000000\n",
       "earliest_cr_line           0.000000\n",
       "inq_last_6mths             0.000000\n",
       "open_acc                   0.000000\n",
       "pub_rec                    0.000000\n",
       "revol_bal                  0.000000\n",
       "revol_util                 0.125891\n",
       "total_acc                  0.000000\n",
       "out_prncp                  0.000000\n",
       "out_prncp_inv              0.000000\n",
       "total_pymnt                0.000000\n",
       "total_pymnt_inv            0.000000\n",
       "total_rec_prncp            0.000000\n",
       "total_rec_int              0.000000\n",
       "total_rec_late_fee         0.000000\n",
       "recoveries                 0.000000\n",
       "collection_recovery_fee    0.000000\n",
       "last_pymnt_d               0.178765\n",
       "last_pymnt_amnt            0.000000\n",
       "last_credit_pull_d         0.005036\n",
       "dtype: float64"
      ]
     },
     "execution_count": 14,
     "metadata": {},
     "output_type": "execute_result"
    }
   ],
   "source": [
    "df.isnull().mean()*100"
   ]
  },
  {
   "cell_type": "code",
   "execution_count": 15,
   "id": "db330a08",
   "metadata": {},
   "outputs": [
    {
     "data": {
      "text/plain": [
       "loan_amnt                    int64\n",
       "funded_amnt                  int64\n",
       "funded_amnt_inv            float64\n",
       "term                        object\n",
       "int_rate                    object\n",
       "installment                float64\n",
       "grade                       object\n",
       "sub_grade                   object\n",
       "emp_length                  object\n",
       "home_ownership              object\n",
       "annual_inc                 float64\n",
       "verification_status         object\n",
       "issue_d                     object\n",
       "loan_status                 object\n",
       "purpose                     object\n",
       "addr_state                  object\n",
       "dti                        float64\n",
       "delinq_2yrs                  int64\n",
       "earliest_cr_line            object\n",
       "inq_last_6mths               int64\n",
       "open_acc                     int64\n",
       "pub_rec                      int64\n",
       "revol_bal                    int64\n",
       "revol_util                  object\n",
       "total_acc                    int64\n",
       "out_prncp                  float64\n",
       "out_prncp_inv              float64\n",
       "total_pymnt                float64\n",
       "total_pymnt_inv            float64\n",
       "total_rec_prncp            float64\n",
       "total_rec_int              float64\n",
       "total_rec_late_fee         float64\n",
       "recoveries                 float64\n",
       "collection_recovery_fee    float64\n",
       "last_pymnt_d                object\n",
       "last_pymnt_amnt            float64\n",
       "last_credit_pull_d          object\n",
       "dtype: object"
      ]
     },
     "execution_count": 15,
     "metadata": {},
     "output_type": "execute_result"
    }
   ],
   "source": [
    "df.dtypes"
   ]
  },
  {
   "cell_type": "markdown",
   "id": "f8717f87",
   "metadata": {},
   "source": [
    "### Converting values to appropariate data types"
   ]
  },
  {
   "cell_type": "code",
   "execution_count": 16,
   "id": "0165c16a",
   "metadata": {},
   "outputs": [],
   "source": [
    "df['term'] = df['term'].apply(lambda x: int(x.replace(\" months\",\"\")))\n",
    "df['int_rate'] = df['int_rate'].apply(lambda x: float(x.replace(\"%\",\"\")))"
   ]
  },
  {
   "cell_type": "code",
   "execution_count": 17,
   "id": "c04b20b4",
   "metadata": {},
   "outputs": [],
   "source": [
    "df['emp_length'] = df['emp_length'].str.extract('(\\d+)')"
   ]
  },
  {
   "cell_type": "code",
   "execution_count": 18,
   "id": "6a3e4028",
   "metadata": {},
   "outputs": [],
   "source": [
    "df['issue_d'] = pd.to_datetime(df['issue_d'],format=\"%b-%y\")"
   ]
  },
  {
   "cell_type": "code",
   "execution_count": 19,
   "id": "ab230dd1",
   "metadata": {},
   "outputs": [],
   "source": [
    "df['issue_Month'] = df['issue_d'].dt.month\n",
    "df['issue_Year'] = df['issue_d'].dt.year"
   ]
  },
  {
   "cell_type": "code",
   "execution_count": 20,
   "id": "60982628",
   "metadata": {},
   "outputs": [],
   "source": [
    "df['earliest_cr_line'] = pd.to_datetime(df['earliest_cr_line'],format=\"%b-%y\")\n",
    "df['earliest_cr_line_Month'] = df['earliest_cr_line'].dt.month\n",
    "df['earliest_cr_line_Year'] = df['earliest_cr_line'].dt.year"
   ]
  },
  {
   "cell_type": "code",
   "execution_count": 21,
   "id": "b6a41244",
   "metadata": {},
   "outputs": [],
   "source": [
    "df['revol_util'] = df['revol_util'].str.rstrip('%')"
   ]
  },
  {
   "cell_type": "code",
   "execution_count": 22,
   "id": "bf2e2b26",
   "metadata": {},
   "outputs": [],
   "source": [
    "df['revol_util'] = df['revol_util'].astype('float')"
   ]
  },
  {
   "cell_type": "code",
   "execution_count": 23,
   "id": "13fe6ad9",
   "metadata": {},
   "outputs": [],
   "source": [
    "df['last_pymnt_d'] = pd.to_datetime(df['last_pymnt_d'],format=\"%b-%y\")\n",
    "df['last_pymnt_Month'] = df['last_pymnt_d'].dt.month\n",
    "df['last_pymnt_Year'] = df['last_pymnt_d'].dt.year"
   ]
  },
  {
   "cell_type": "code",
   "execution_count": 24,
   "id": "ba64daee",
   "metadata": {},
   "outputs": [],
   "source": [
    "df['last_credit_pull_d'] = pd.to_datetime(df['last_credit_pull_d'],format=\"%b-%y\")\n",
    "df['last_credit_pull_Month'] = df['last_credit_pull_d'].dt.month\n",
    "df['last_credit_pull_Year'] = df['last_credit_pull_d'].dt.year"
   ]
  },
  {
   "cell_type": "markdown",
   "id": "288bf62c",
   "metadata": {},
   "source": [
    "### Handling null values"
   ]
  },
  {
   "cell_type": "code",
   "execution_count": 25,
   "id": "d88dac84",
   "metadata": {},
   "outputs": [
    {
     "data": {
      "text/plain": [
       "loan_amnt                     0\n",
       "funded_amnt                   0\n",
       "funded_amnt_inv               0\n",
       "term                          0\n",
       "int_rate                      0\n",
       "installment                   0\n",
       "grade                         0\n",
       "sub_grade                     0\n",
       "emp_length                 1075\n",
       "home_ownership                0\n",
       "annual_inc                    0\n",
       "verification_status           0\n",
       "issue_d                       0\n",
       "loan_status                   0\n",
       "purpose                       0\n",
       "addr_state                    0\n",
       "dti                           0\n",
       "delinq_2yrs                   0\n",
       "earliest_cr_line              0\n",
       "inq_last_6mths                0\n",
       "open_acc                      0\n",
       "pub_rec                       0\n",
       "revol_bal                     0\n",
       "revol_util                   50\n",
       "total_acc                     0\n",
       "out_prncp                     0\n",
       "out_prncp_inv                 0\n",
       "total_pymnt                   0\n",
       "total_pymnt_inv               0\n",
       "total_rec_prncp               0\n",
       "total_rec_int                 0\n",
       "total_rec_late_fee            0\n",
       "recoveries                    0\n",
       "collection_recovery_fee       0\n",
       "last_pymnt_d                 71\n",
       "last_pymnt_amnt               0\n",
       "last_credit_pull_d            2\n",
       "issue_Month                   0\n",
       "issue_Year                    0\n",
       "earliest_cr_line_Month        0\n",
       "earliest_cr_line_Year         0\n",
       "last_pymnt_Month             71\n",
       "last_pymnt_Year              71\n",
       "last_credit_pull_Month        2\n",
       "last_credit_pull_Year         2\n",
       "dtype: int64"
      ]
     },
     "execution_count": 25,
     "metadata": {},
     "output_type": "execute_result"
    }
   ],
   "source": [
    "df.isnull().sum()"
   ]
  },
  {
   "cell_type": "code",
   "execution_count": 26,
   "id": "6d105aa7",
   "metadata": {},
   "outputs": [],
   "source": [
    "df[\"emp_length\"].fillna(0,inplace=True)\n",
    "df['emp_length'] = df['emp_length'].astype('int32')"
   ]
  },
  {
   "cell_type": "code",
   "execution_count": 27,
   "id": "750aeed2",
   "metadata": {},
   "outputs": [],
   "source": [
    "df.dropna(axis=0,subset=['revol_util'],inplace=True)"
   ]
  },
  {
   "cell_type": "markdown",
   "id": "cf15fca9",
   "metadata": {},
   "source": [
    "### Handling Outliers"
   ]
  },
  {
   "cell_type": "code",
   "execution_count": 28,
   "id": "2d226c42",
   "metadata": {},
   "outputs": [
    {
     "name": "stderr",
     "output_type": "stream",
     "text": [
      "/Users/prasoonmahawar/opt/anaconda3/lib/python3.9/site-packages/seaborn/_decorators.py:36: FutureWarning: Pass the following variable as a keyword arg: x. From version 0.12, the only valid positional argument will be `data`, and passing other arguments without an explicit keyword will result in an error or misinterpretation.\n",
      "  warnings.warn(\n"
     ]
    },
    {
     "data": {
      "text/plain": [
       "<AxesSubplot:xlabel='annual_inc'>"
      ]
     },
     "execution_count": 28,
     "metadata": {},
     "output_type": "execute_result"
    },
    {
     "data": {
      "image/png": "[encoded data removed]",
      "text/plain": [
       "<Figure size 640x480 with 1 Axes>"
      ]
     },
     "metadata": {},
     "output_type": "display_data"
    }
   ],
   "source": [
    "sns.boxplot(df['annual_inc'])"
   ]
  },
  {
   "cell_type": "code",
   "execution_count": 29,
   "id": "f86abe6f",
   "metadata": {},
   "outputs": [
    {
     "data": {
      "text/plain": [
       "0.50     59000.0\n",
       "0.75     82400.0\n",
       "0.80     90000.0\n",
       "0.85    100000.0\n",
       "0.90    116000.0\n",
       "0.95    142000.0\n",
       "Name: annual_inc, dtype: float64"
      ]
     },
     "execution_count": 29,
     "metadata": {},
     "output_type": "execute_result"
    }
   ],
   "source": [
    "df['annual_inc'].quantile([0.5,0.75,0.80,0.85,0.90,0.95])"
   ]
  },
  {
   "cell_type": "code",
   "execution_count": 30,
   "id": "abe743a5",
   "metadata": {},
   "outputs": [],
   "source": [
    "# Removing values higher than the 90th percentile\n",
    "df= df[df['annual_inc'] <= df['annual_inc'].quantile(0.90)] "
   ]
  },
  {
   "cell_type": "code",
   "execution_count": 31,
   "id": "7c2bef11",
   "metadata": {},
   "outputs": [
    {
     "name": "stderr",
     "output_type": "stream",
     "text": [
      "/Users/prasoonmahawar/opt/anaconda3/lib/python3.9/site-packages/seaborn/_decorators.py:36: FutureWarning: Pass the following variable as a keyword arg: x. From version 0.12, the only valid positional argument will be `data`, and passing other arguments without an explicit keyword will result in an error or misinterpretation.\n",
      "  warnings.warn(\n"
     ]
    },
    {
     "data": {
      "text/plain": [
       "<AxesSubplot:xlabel='annual_inc'>"
      ]
     },
     "execution_count": 31,
     "metadata": {},
     "output_type": "execute_result"
    },
    {
     "data": {
      "image/png": "[encoded data removed]",
      "text/plain": [
       "<Figure size 640x480 with 1 Axes>"
      ]
     },
     "metadata": {},
     "output_type": "display_data"
    }
   ],
   "source": [
    "sns.boxplot(df['annual_inc'])"
   ]
  },
  {
   "cell_type": "code",
   "execution_count": 32,
   "id": "05316c82",
   "metadata": {},
   "outputs": [
    {
     "data": {
      "text/plain": [
       "(35723, 45)"
      ]
     },
     "execution_count": 32,
     "metadata": {},
     "output_type": "execute_result"
    }
   ],
   "source": [
    "df.shape"
   ]
  },
  {
   "cell_type": "code",
   "execution_count": 33,
   "id": "e541066f",
   "metadata": {},
   "outputs": [
    {
     "name": "stderr",
     "output_type": "stream",
     "text": [
      "/Users/prasoonmahawar/opt/anaconda3/lib/python3.9/site-packages/seaborn/_decorators.py:36: FutureWarning: Pass the following variable as a keyword arg: x. From version 0.12, the only valid positional argument will be `data`, and passing other arguments without an explicit keyword will result in an error or misinterpretation.\n",
      "  warnings.warn(\n"
     ]
    },
    {
     "data": {
      "text/plain": [
       "<AxesSubplot:xlabel='loan_amnt'>"
      ]
     },
     "execution_count": 33,
     "metadata": {},
     "output_type": "execute_result"
    },
    {
     "data": {
      "image/png": "[encoded data removed]",
      "text/plain": [
       "<Figure size 640x480 with 1 Axes>"
      ]
     },
     "metadata": {},
     "output_type": "display_data"
    }
   ],
   "source": [
    "sns.boxplot(df['loan_amnt'])"
   ]
  },
  {
   "cell_type": "code",
   "execution_count": 34,
   "id": "051f1976",
   "metadata": {},
   "outputs": [
    {
     "data": {
      "text/plain": [
       "count    35723.000000\n",
       "mean     10573.904067\n",
       "std       6950.794056\n",
       "min        500.000000\n",
       "25%       5000.000000\n",
       "50%       9000.000000\n",
       "75%      14675.000000\n",
       "max      35000.000000\n",
       "Name: loan_amnt, dtype: float64"
      ]
     },
     "execution_count": 34,
     "metadata": {},
     "output_type": "execute_result"
    }
   ],
   "source": [
    "df['loan_amnt'].describe()"
   ]
  },
  {
   "cell_type": "code",
   "execution_count": 35,
   "id": "f3a333db",
   "metadata": {},
   "outputs": [
    {
     "name": "stderr",
     "output_type": "stream",
     "text": [
      "/Users/prasoonmahawar/opt/anaconda3/lib/python3.9/site-packages/seaborn/_decorators.py:36: FutureWarning: Pass the following variable as a keyword arg: x. From version 0.12, the only valid positional argument will be `data`, and passing other arguments without an explicit keyword will result in an error or misinterpretation.\n",
      "  warnings.warn(\n"
     ]
    },
    {
     "data": {
      "text/plain": [
       "<AxesSubplot:xlabel='int_rate'>"
      ]
     },
     "execution_count": 35,
     "metadata": {},
     "output_type": "execute_result"
    },
    {
     "data": {
      "image/png": "[encoded data removed]",
      "text/plain": [
       "<Figure size 640x480 with 1 Axes>"
      ]
     },
     "metadata": {},
     "output_type": "display_data"
    }
   ],
   "source": [
    "sns.boxplot(df['int_rate'])"
   ]
  },
  {
   "cell_type": "markdown",
   "id": "ddba5904",
   "metadata": {},
   "source": []
  },
  {
   "cell_type": "code",
   "execution_count": 36,
   "id": "d8990861",
   "metadata": {},
   "outputs": [
    {
     "name": "stderr",
     "output_type": "stream",
     "text": [
      "/Users/prasoonmahawar/opt/anaconda3/lib/python3.9/site-packages/seaborn/_decorators.py:36: FutureWarning: Pass the following variable as a keyword arg: x. From version 0.12, the only valid positional argument will be `data`, and passing other arguments without an explicit keyword will result in an error or misinterpretation.\n",
      "  warnings.warn(\n"
     ]
    },
    {
     "data": {
      "text/plain": [
       "<AxesSubplot:xlabel='funded_amnt'>"
      ]
     },
     "execution_count": 36,
     "metadata": {},
     "output_type": "execute_result"
    },
    {
     "data": {
      "image/png": "[encoded data removed]",
      "text/plain": [
       "<Figure size 640x480 with 1 Axes>"
      ]
     },
     "metadata": {},
     "output_type": "display_data"
    }
   ],
   "source": [
    "sns.boxplot(df['funded_amnt'])"
   ]
  },
  {
   "cell_type": "markdown",
   "id": "6fc0a387",
   "metadata": {},
   "source": [
    "### Performing Univariate analysis on Categorical Variables"
   ]
  },
  {
   "cell_type": "code",
   "execution_count": 37,
   "id": "9d44bafb",
   "metadata": {},
   "outputs": [
    {
     "data": {
      "text/plain": [
       "Fully Paid     82.694623\n",
       "Charged Off    14.517258\n",
       "Current         2.788120\n",
       "Name: loan_status, dtype: float64"
      ]
     },
     "execution_count": 37,
     "metadata": {},
     "output_type": "execute_result"
    }
   ],
   "source": [
    "df['loan_status'].value_counts()/df['loan_status'].value_counts().sum() * 100"
   ]
  },
  {
   "cell_type": "code",
   "execution_count": 38,
   "id": "eb638dd7",
   "metadata": {},
   "outputs": [
    {
     "name": "stderr",
     "output_type": "stream",
     "text": [
      "/Users/prasoonmahawar/opt/anaconda3/lib/python3.9/site-packages/seaborn/_decorators.py:36: FutureWarning: Pass the following variable as a keyword arg: x. From version 0.12, the only valid positional argument will be `data`, and passing other arguments without an explicit keyword will result in an error or misinterpretation.\n",
      "  warnings.warn(\n"
     ]
    },
    {
     "data": {
      "text/plain": [
       "<AxesSubplot:xlabel='loan_status', ylabel='count'>"
      ]
     },
     "execution_count": 38,
     "metadata": {},
     "output_type": "execute_result"
    },
    {
     "data": {
      "image/png": "[encoded data removed]",
      "text/plain": [
       "<Figure size 640x480 with 1 Axes>"
      ]
     },
     "metadata": {},
     "output_type": "display_data"
    }
   ],
   "source": [
    "sns.countplot(df['loan_status'])"
   ]
  },
  {
   "cell_type": "markdown",
   "id": "d898b2c5",
   "metadata": {},
   "source": [
    "### Observation\n",
    "\n",
    "- Around 83% of the loans are fully paid.\n",
    "- Around 15% of the loans get defaulted."
   ]
  },
  {
   "cell_type": "code",
   "execution_count": 39,
   "id": "6c68c0bf",
   "metadata": {},
   "outputs": [
    {
     "name": "stderr",
     "output_type": "stream",
     "text": [
      "/Users/prasoonmahawar/opt/anaconda3/lib/python3.9/site-packages/seaborn/_decorators.py:36: FutureWarning: Pass the following variable as a keyword arg: x. From version 0.12, the only valid positional argument will be `data`, and passing other arguments without an explicit keyword will result in an error or misinterpretation.\n",
      "  warnings.warn(\n"
     ]
    },
    {
     "data": {
      "text/plain": [
       "<AxesSubplot:xlabel='grade', ylabel='count'>"
      ]
     },
     "execution_count": 39,
     "metadata": {},
     "output_type": "execute_result"
    },
    {
     "data": {
      "image/png": "[encoded data removed]",
      "text/plain": [
       "<Figure size 640x480 with 1 Axes>"
      ]
     },
     "metadata": {},
     "output_type": "display_data"
    }
   ],
   "source": [
    "sns.countplot(df['grade'])"
   ]
  },
  {
   "cell_type": "markdown",
   "id": "431622f5",
   "metadata": {},
   "source": [
    " ### Observation\n",
    " \n",
    " - Most of the loans are of grade B follwed by A\n",
    " - Least loans taken are of grade G"
   ]
  },
  {
   "cell_type": "code",
   "execution_count": 40,
   "id": "8a3b0f08",
   "metadata": {},
   "outputs": [],
   "source": [
    "df['sub_grade'] = df['sub_grade'].apply(lambda x: int(x[-1]))"
   ]
  },
  {
   "cell_type": "code",
   "execution_count": 41,
   "id": "925a90eb",
   "metadata": {},
   "outputs": [
    {
     "data": {
      "text/plain": [
       "<AxesSubplot:xlabel='grade', ylabel='count'>"
      ]
     },
     "execution_count": 41,
     "metadata": {},
     "output_type": "execute_result"
    },
    {
     "data": {
      "image/png": "[encoded data removed]",
      "text/plain": [
       "<Figure size 640x480 with 1 Axes>"
      ]
     },
     "metadata": {},
     "output_type": "display_data"
    }
   ],
   "source": [
    "sns.countplot(x='grade', order=['A','B','C','D','E','F','G'], hue='sub_grade',data=df[df['loan_status'] == 'Charged Off'])"
   ]
  },
  {
   "cell_type": "markdown",
   "id": "34f522c1",
   "metadata": {},
   "source": [
    "### Observation\n",
    "\n",
    "- Most of the loans which gets defaulted are of sub_grade B5 and the least is of sub_grade G5."
   ]
  },
  {
   "cell_type": "code",
   "execution_count": 42,
   "id": "9221d198",
   "metadata": {},
   "outputs": [
    {
     "data": {
      "text/plain": [
       "<AxesSubplot:xlabel='grade', ylabel='count'>"
      ]
     },
     "execution_count": 42,
     "metadata": {},
     "output_type": "execute_result"
    },
    {
     "data": {
      "image/png": "[encoded data removed]",
      "text/plain": [
       "<Figure size 640x480 with 1 Axes>"
      ]
     },
     "metadata": {},
     "output_type": "display_data"
    }
   ],
   "source": [
    "sns.countplot(x='grade', order=['A','B','C','D','E','F','G'], hue='sub_grade',data=df[df['loan_status'] == 'Fully Paid'])"
   ]
  },
  {
   "cell_type": "markdown",
   "id": "fe3644c9",
   "metadata": {},
   "source": [
    "### Observation\n",
    "\n",
    "- Most of the loans which gets fully paid are of sub_grade A4 and the least is of sub_grade G5."
   ]
  },
  {
   "cell_type": "code",
   "execution_count": 43,
   "id": "e657bd7b",
   "metadata": {},
   "outputs": [
    {
     "data": {
      "text/plain": [
       "<AxesSubplot:xlabel='grade', ylabel='count'>"
      ]
     },
     "execution_count": 43,
     "metadata": {},
     "output_type": "execute_result"
    },
    {
     "data": {
      "image/png": "[encoded data removed]",
      "text/plain": [
       "<Figure size 640x480 with 1 Axes>"
      ]
     },
     "metadata": {},
     "output_type": "display_data"
    }
   ],
   "source": [
    "sns.countplot(x='grade', order=['A','B','C','D','E','F','G'],data=df[df['loan_status'] == 'Charged Off'])"
   ]
  },
  {
   "cell_type": "markdown",
   "id": "991d8a88",
   "metadata": {},
   "source": [
    "### Observation\n",
    "\n",
    "- Most of the loans taken in grade B gets defaulted.\n",
    "- Grade G loans have less defaulting cases."
   ]
  },
  {
   "cell_type": "code",
   "execution_count": 44,
   "id": "6e2f8072",
   "metadata": {},
   "outputs": [
    {
     "name": "stderr",
     "output_type": "stream",
     "text": [
      "/Users/prasoonmahawar/opt/anaconda3/lib/python3.9/site-packages/seaborn/_decorators.py:36: FutureWarning: Pass the following variable as a keyword arg: x. From version 0.12, the only valid positional argument will be `data`, and passing other arguments without an explicit keyword will result in an error or misinterpretation.\n",
      "  warnings.warn(\n"
     ]
    },
    {
     "data": {
      "text/plain": [
       "<AxesSubplot:xlabel='home_ownership', ylabel='count'>"
      ]
     },
     "execution_count": 44,
     "metadata": {},
     "output_type": "execute_result"
    },
    {
     "data": {
      "image/png": "[encoded data removed]",
      "text/plain": [
       "<Figure size 640x480 with 1 Axes>"
      ]
     },
     "metadata": {},
     "output_type": "display_data"
    }
   ],
   "source": [
    "sns.countplot(df['home_ownership'])"
   ]
  },
  {
   "cell_type": "code",
   "execution_count": 45,
   "id": "502ec550",
   "metadata": {},
   "outputs": [
    {
     "data": {
      "text/plain": [
       "RENT        17915\n",
       "MORTGAGE    14894\n",
       "OWN          2824\n",
       "OTHER          88\n",
       "NONE            2\n",
       "Name: home_ownership, dtype: int64"
      ]
     },
     "execution_count": 45,
     "metadata": {},
     "output_type": "execute_result"
    }
   ],
   "source": [
    "df['home_ownership'].value_counts()"
   ]
  },
  {
   "cell_type": "code",
   "execution_count": 46,
   "id": "efa4bf36",
   "metadata": {},
   "outputs": [],
   "source": [
    "#Since NONE has only 2 values so replacing it with OTHER\n",
    "\n",
    "df['home_ownership'] = df['home_ownership'].replace(to_replace = ['NONE'], value=\"OTHER\")"
   ]
  },
  {
   "cell_type": "code",
   "execution_count": 47,
   "id": "4be9828f",
   "metadata": {},
   "outputs": [
    {
     "data": {
      "text/plain": [
       "RENT        17915\n",
       "MORTGAGE    14894\n",
       "OWN          2824\n",
       "OTHER          90\n",
       "Name: home_ownership, dtype: int64"
      ]
     },
     "execution_count": 47,
     "metadata": {},
     "output_type": "execute_result"
    }
   ],
   "source": [
    "df['home_ownership'].value_counts()"
   ]
  },
  {
   "cell_type": "code",
   "execution_count": 48,
   "id": "23072a02",
   "metadata": {},
   "outputs": [
    {
     "data": {
      "text/plain": [
       "<AxesSubplot:xlabel='home_ownership', ylabel='count'>"
      ]
     },
     "execution_count": 48,
     "metadata": {},
     "output_type": "execute_result"
    },
    {
     "data": {
      "image/png": "[encoded data removed]",
      "text/plain": [
       "<Figure size 640x480 with 1 Axes>"
      ]
     },
     "metadata": {},
     "output_type": "display_data"
    }
   ],
   "source": [
    "sns.countplot(x='home_ownership', data=df[df['loan_status'] == 'Charged Off'])"
   ]
  },
  {
   "cell_type": "markdown",
   "id": "919130ad",
   "metadata": {},
   "source": [
    "### Observation\n",
    "\n",
    "- Most of the loans get defaulted with person having Rent followed by person with Mortgage\n",
    "- Person owing the the house are less like to default"
   ]
  },
  {
   "cell_type": "code",
   "execution_count": 49,
   "id": "682614b2",
   "metadata": {},
   "outputs": [
    {
     "data": {
      "text/plain": [
       "debt_consolidation    17014\n",
       "credit_card            4596\n",
       "other                  3645\n",
       "home_improvement       2390\n",
       "major_purchase         1980\n",
       "small_business         1585\n",
       "car                    1437\n",
       "wedding                 862\n",
       "medical                 614\n",
       "moving                  522\n",
       "vacation                356\n",
       "house                   330\n",
       "educational             302\n",
       "renewable_energy         90\n",
       "Name: purpose, dtype: int64"
      ]
     },
     "execution_count": 49,
     "metadata": {},
     "output_type": "execute_result"
    }
   ],
   "source": [
    "df['purpose'].value_counts()"
   ]
  },
  {
   "cell_type": "code",
   "execution_count": 50,
   "id": "c24fbbdf",
   "metadata": {},
   "outputs": [
    {
     "data": {
      "text/plain": [
       "<AxesSubplot:xlabel='count', ylabel='purpose'>"
      ]
     },
     "execution_count": 50,
     "metadata": {},
     "output_type": "execute_result"
    },
    {
     "data": {
      "image/png": "[encoded data removed]",
      "text/plain": [
       "<Figure size 640x480 with 1 Axes>"
      ]
     },
     "metadata": {},
     "output_type": "display_data"
    }
   ],
   "source": [
    "sns.countplot(y='purpose', data=df[df['loan_status'] == 'Charged Off'])"
   ]
  },
  {
   "cell_type": "markdown",
   "id": "dd5b5f6c",
   "metadata": {},
   "source": [
    "### Observation\n",
    "\n",
    "- Out of total charged off loan debt_consolidation has the highest number of defaulted loan."
   ]
  },
  {
   "cell_type": "code",
   "execution_count": 51,
   "id": "737a1279",
   "metadata": {},
   "outputs": [
    {
     "data": {
      "text/plain": [
       "CA    6242\n",
       "NY    3412\n",
       "FL    2629\n",
       "TX    2382\n",
       "NJ    1604\n",
       "PA    1403\n",
       "IL    1379\n",
       "GA    1263\n",
       "VA    1244\n",
       "MA    1167\n",
       "OH    1138\n",
       "MD     909\n",
       "AZ     794\n",
       "WA     766\n",
       "CO     733\n",
       "NC     725\n",
       "MI     663\n",
       "CT     660\n",
       "MO     651\n",
       "MN     572\n",
       "NV     449\n",
       "SC     439\n",
       "WI     426\n",
       "AL     424\n",
       "OR     420\n",
       "LA     393\n",
       "KY     307\n",
       "OK     276\n",
       "KS     248\n",
       "UT     238\n",
       "AR     229\n",
       "DC     183\n",
       "RI     182\n",
       "NM     178\n",
       "WV     173\n",
       "HI     158\n",
       "NH     152\n",
       "DE     105\n",
       "MT      83\n",
       "WY      81\n",
       "AK      68\n",
       "SD      63\n",
       "VT      52\n",
       "MS      18\n",
       "TN      15\n",
       "IN       9\n",
       "IA       5\n",
       "NE       5\n",
       "ID       5\n",
       "ME       3\n",
       "Name: addr_state, dtype: int64"
      ]
     },
     "execution_count": 51,
     "metadata": {},
     "output_type": "execute_result"
    }
   ],
   "source": [
    "df['addr_state'].value_counts()"
   ]
  },
  {
   "cell_type": "code",
   "execution_count": 52,
   "id": "dc7c657f",
   "metadata": {},
   "outputs": [
    {
     "data": {
      "text/plain": [
       "<AxesSubplot:xlabel='count', ylabel='addr_state'>"
      ]
     },
     "execution_count": 52,
     "metadata": {},
     "output_type": "execute_result"
    },
    {
     "data": {
      "image/png": "[encoded data removed]",
      "text/plain": [
       "<Figure size 1200x800 with 1 Axes>"
      ]
     },
     "metadata": {},
     "output_type": "display_data"
    }
   ],
   "source": [
    "fig,ax = plt.subplots(figsize = (12,8))\n",
    "ax.set(xscale='log')\n",
    "sns.countplot(y='addr_state', data=df[df['loan_status'] == 'Charged Off'])"
   ]
  },
  {
   "cell_type": "markdown",
   "id": "426339ed",
   "metadata": {},
   "source": [
    "### Observation\n",
    "\n",
    "- Most of the loans defaulted are by the people from CA state."
   ]
  },
  {
   "cell_type": "markdown",
   "id": "5acf4944",
   "metadata": {},
   "source": [
    "### Converting numerical variables in to categorical by creating bins"
   ]
  },
  {
   "cell_type": "code",
   "execution_count": 53,
   "id": "35d189b1",
   "metadata": {},
   "outputs": [
    {
     "data": {
      "text/html": [
       "<div>\n",
       "<style scoped>\n",
       "    .dataframe tbody tr th:only-of-type {\n",
       "        vertical-align: middle;\n",
       "    }\n",
       "\n",
       "    .dataframe tbody tr th {\n",
       "        vertical-align: top;\n",
       "    }\n",
       "\n",
       "    .dataframe thead th {\n",
       "        text-align: right;\n",
       "    }\n",
       "</style>\n",
       "<table border=\"1\" class=\"dataframe\">\n",
       "  <thead>\n",
       "    <tr style=\"text-align: right;\">\n",
       "      <th></th>\n",
       "      <th>loan_amnt</th>\n",
       "      <th>funded_amnt</th>\n",
       "      <th>funded_amnt_inv</th>\n",
       "      <th>term</th>\n",
       "      <th>int_rate</th>\n",
       "      <th>installment</th>\n",
       "      <th>grade</th>\n",
       "      <th>sub_grade</th>\n",
       "      <th>emp_length</th>\n",
       "      <th>home_ownership</th>\n",
       "      <th>...</th>\n",
       "      <th>last_credit_pull_d</th>\n",
       "      <th>issue_Month</th>\n",
       "      <th>issue_Year</th>\n",
       "      <th>earliest_cr_line_Month</th>\n",
       "      <th>earliest_cr_line_Year</th>\n",
       "      <th>last_pymnt_Month</th>\n",
       "      <th>last_pymnt_Year</th>\n",
       "      <th>last_credit_pull_Month</th>\n",
       "      <th>last_credit_pull_Year</th>\n",
       "      <th>int_rate_bin</th>\n",
       "    </tr>\n",
       "  </thead>\n",
       "  <tbody>\n",
       "    <tr>\n",
       "      <th>0</th>\n",
       "      <td>5000</td>\n",
       "      <td>5000</td>\n",
       "      <td>4975.0</td>\n",
       "      <td>36</td>\n",
       "      <td>10.65</td>\n",
       "      <td>162.87</td>\n",
       "      <td>B</td>\n",
       "      <td>2</td>\n",
       "      <td>10</td>\n",
       "      <td>RENT</td>\n",
       "      <td>...</td>\n",
       "      <td>2016-05-01</td>\n",
       "      <td>12</td>\n",
       "      <td>2011</td>\n",
       "      <td>1</td>\n",
       "      <td>1985</td>\n",
       "      <td>1.0</td>\n",
       "      <td>2015.0</td>\n",
       "      <td>5.0</td>\n",
       "      <td>2016.0</td>\n",
       "      <td>9-13%</td>\n",
       "    </tr>\n",
       "    <tr>\n",
       "      <th>1</th>\n",
       "      <td>2500</td>\n",
       "      <td>2500</td>\n",
       "      <td>2500.0</td>\n",
       "      <td>60</td>\n",
       "      <td>15.27</td>\n",
       "      <td>59.83</td>\n",
       "      <td>C</td>\n",
       "      <td>4</td>\n",
       "      <td>1</td>\n",
       "      <td>RENT</td>\n",
       "      <td>...</td>\n",
       "      <td>2013-09-01</td>\n",
       "      <td>12</td>\n",
       "      <td>2011</td>\n",
       "      <td>4</td>\n",
       "      <td>1999</td>\n",
       "      <td>4.0</td>\n",
       "      <td>2013.0</td>\n",
       "      <td>9.0</td>\n",
       "      <td>2013.0</td>\n",
       "      <td>13-17%</td>\n",
       "    </tr>\n",
       "    <tr>\n",
       "      <th>2</th>\n",
       "      <td>2400</td>\n",
       "      <td>2400</td>\n",
       "      <td>2400.0</td>\n",
       "      <td>36</td>\n",
       "      <td>15.96</td>\n",
       "      <td>84.33</td>\n",
       "      <td>C</td>\n",
       "      <td>5</td>\n",
       "      <td>10</td>\n",
       "      <td>RENT</td>\n",
       "      <td>...</td>\n",
       "      <td>2016-05-01</td>\n",
       "      <td>12</td>\n",
       "      <td>2011</td>\n",
       "      <td>11</td>\n",
       "      <td>2001</td>\n",
       "      <td>6.0</td>\n",
       "      <td>2014.0</td>\n",
       "      <td>5.0</td>\n",
       "      <td>2016.0</td>\n",
       "      <td>13-17%</td>\n",
       "    </tr>\n",
       "    <tr>\n",
       "      <th>3</th>\n",
       "      <td>10000</td>\n",
       "      <td>10000</td>\n",
       "      <td>10000.0</td>\n",
       "      <td>36</td>\n",
       "      <td>13.49</td>\n",
       "      <td>339.31</td>\n",
       "      <td>C</td>\n",
       "      <td>1</td>\n",
       "      <td>10</td>\n",
       "      <td>RENT</td>\n",
       "      <td>...</td>\n",
       "      <td>2016-04-01</td>\n",
       "      <td>12</td>\n",
       "      <td>2011</td>\n",
       "      <td>2</td>\n",
       "      <td>1996</td>\n",
       "      <td>1.0</td>\n",
       "      <td>2015.0</td>\n",
       "      <td>4.0</td>\n",
       "      <td>2016.0</td>\n",
       "      <td>13-17%</td>\n",
       "    </tr>\n",
       "    <tr>\n",
       "      <th>4</th>\n",
       "      <td>3000</td>\n",
       "      <td>3000</td>\n",
       "      <td>3000.0</td>\n",
       "      <td>60</td>\n",
       "      <td>12.69</td>\n",
       "      <td>67.79</td>\n",
       "      <td>B</td>\n",
       "      <td>5</td>\n",
       "      <td>1</td>\n",
       "      <td>RENT</td>\n",
       "      <td>...</td>\n",
       "      <td>2016-05-01</td>\n",
       "      <td>12</td>\n",
       "      <td>2011</td>\n",
       "      <td>1</td>\n",
       "      <td>1996</td>\n",
       "      <td>5.0</td>\n",
       "      <td>2016.0</td>\n",
       "      <td>5.0</td>\n",
       "      <td>2016.0</td>\n",
       "      <td>9-13%</td>\n",
       "    </tr>\n",
       "  </tbody>\n",
       "</table>\n",
       "<p>5 rows × 46 columns</p>\n",
       "</div>"
      ],
      "text/plain": [
       "   loan_amnt  funded_amnt  funded_amnt_inv  term  int_rate  installment grade  \\\n",
       "0       5000         5000           4975.0    36     10.65       162.87     B   \n",
       "1       2500         2500           2500.0    60     15.27        59.83     C   \n",
       "2       2400         2400           2400.0    36     15.96        84.33     C   \n",
       "3      10000        10000          10000.0    36     13.49       339.31     C   \n",
       "4       3000         3000           3000.0    60     12.69        67.79     B   \n",
       "\n",
       "   sub_grade  emp_length home_ownership  ...  last_credit_pull_d issue_Month  \\\n",
       "0          2          10           RENT  ...          2016-05-01          12   \n",
       "1          4           1           RENT  ...          2013-09-01          12   \n",
       "2          5          10           RENT  ...          2016-05-01          12   \n",
       "3          1          10           RENT  ...          2016-04-01          12   \n",
       "4          5           1           RENT  ...          2016-05-01          12   \n",
       "\n",
       "  issue_Year earliest_cr_line_Month earliest_cr_line_Year last_pymnt_Month  \\\n",
       "0       2011                      1                  1985              1.0   \n",
       "1       2011                      4                  1999              4.0   \n",
       "2       2011                     11                  2001              6.0   \n",
       "3       2011                      2                  1996              1.0   \n",
       "4       2011                      1                  1996              5.0   \n",
       "\n",
       "   last_pymnt_Year  last_credit_pull_Month last_credit_pull_Year  int_rate_bin  \n",
       "0           2015.0                     5.0                2016.0         9-13%  \n",
       "1           2013.0                     9.0                2013.0        13-17%  \n",
       "2           2014.0                     5.0                2016.0        13-17%  \n",
       "3           2015.0                     4.0                2016.0        13-17%  \n",
       "4           2016.0                     5.0                2016.0         9-13%  \n",
       "\n",
       "[5 rows x 46 columns]"
      ]
     },
     "execution_count": 53,
     "metadata": {},
     "output_type": "execute_result"
    }
   ],
   "source": [
    "df['int_rate_bin'] = pd.cut(df['int_rate'], bins=5,precision=0, labels=['5-9%','9-13%','13-17%','17-21%', '21-24%'])\n",
    "df.head()"
   ]
  },
  {
   "cell_type": "code",
   "execution_count": 54,
   "id": "306805cd",
   "metadata": {},
   "outputs": [
    {
     "data": {
      "text/plain": [
       "<AxesSubplot:xlabel='int_rate_bin', ylabel='count'>"
      ]
     },
     "execution_count": 54,
     "metadata": {},
     "output_type": "execute_result"
    },
    {
     "data": {
      "image/png": "[encoded data removed]",
      "text/plain": [
       "<Figure size 640x480 with 1 Axes>"
      ]
     },
     "metadata": {},
     "output_type": "display_data"
    }
   ],
   "source": [
    "sns.countplot(x='int_rate_bin', data=df[df['loan_status'] == 'Charged Off'])"
   ]
  },
  {
   "cell_type": "markdown",
   "id": "f52f5299",
   "metadata": {},
   "source": [
    "### Observation\n",
    "\n",
    "- Most of the loans having interest rate between 13-17 % gets defaulted followed by the loans with interest rate 9-13%."
   ]
  },
  {
   "cell_type": "code",
   "execution_count": 55,
   "id": "ec26a814",
   "metadata": {},
   "outputs": [
    {
     "data": {
      "text/plain": [
       "count    35723.000000\n",
       "mean         9.096045\n",
       "std          4.314681\n",
       "min          2.000000\n",
       "25%          6.000000\n",
       "50%          8.000000\n",
       "75%         11.000000\n",
       "max         42.000000\n",
       "Name: open_acc, dtype: float64"
      ]
     },
     "execution_count": 55,
     "metadata": {},
     "output_type": "execute_result"
    }
   ],
   "source": [
    "df['open_acc'].describe()"
   ]
  },
  {
   "cell_type": "code",
   "execution_count": 56,
   "id": "7d59cacf",
   "metadata": {},
   "outputs": [
    {
     "data": {
      "text/plain": [
       "<AxesSubplot:xlabel='open_acc_bin', ylabel='count'>"
      ]
     },
     "execution_count": 56,
     "metadata": {},
     "output_type": "execute_result"
    },
    {
     "data": {
      "image/png": "[encoded data removed]",
      "text/plain": [
       "<Figure size 640x480 with 1 Axes>"
      ]
     },
     "metadata": {},
     "output_type": "display_data"
    }
   ],
   "source": [
    "df['open_acc_bin'] = pd.cut(df['open_acc'], bins=5,precision=0, labels=['0-10','10-20','20-30','30-40','40-50'])\n",
    "sns.countplot(x='open_acc_bin', data=df[df['loan_status'] == 'Charged Off'])"
   ]
  },
  {
   "cell_type": "markdown",
   "id": "fb87bd32",
   "metadata": {},
   "source": [
    "### Observation\n",
    "\n",
    "- Person having less than 10 open account are more likely to default.\n",
    "- Person having open account more than 40 are less likely to default. "
   ]
  },
  {
   "cell_type": "code",
   "execution_count": 57,
   "id": "eebd8ce9",
   "metadata": {},
   "outputs": [
    {
     "data": {
      "text/plain": [
       "count     35723.000000\n",
       "mean      57468.878623\n",
       "std       23685.242931\n",
       "min        4000.000000\n",
       "25%       39996.000000\n",
       "50%       55000.000000\n",
       "75%       74000.000000\n",
       "max      116000.000000\n",
       "Name: annual_inc, dtype: float64"
      ]
     },
     "execution_count": 57,
     "metadata": {},
     "output_type": "execute_result"
    }
   ],
   "source": [
    "df['annual_inc'].describe()\n"
   ]
  },
  {
   "cell_type": "code",
   "execution_count": 58,
   "id": "c107b9e8",
   "metadata": {},
   "outputs": [
    {
     "data": {
      "text/plain": [
       "<AxesSubplot:xlabel='annual_inc_bin', ylabel='count'>"
      ]
     },
     "execution_count": 58,
     "metadata": {},
     "output_type": "execute_result"
    },
    {
     "data": {
      "image/png": "[encoded data removed]",
      "text/plain": [
       "<Figure size 640x480 with 1 Axes>"
      ]
     },
     "metadata": {},
     "output_type": "display_data"
    }
   ],
   "source": [
    "df['annual_inc_bin'] = pd.cut(df['annual_inc'], bins=5,precision=0, labels=['0-25000','25000-50000','50000-75000','75000-100000','100000-125000'])\n",
    "sns.countplot(x='annual_inc_bin', data=df[df['loan_status'] == 'Charged Off'])"
   ]
  },
  {
   "cell_type": "markdown",
   "id": "f270d3e0",
   "metadata": {},
   "source": [
    "### Observation\n",
    "\n",
    "- Person having annual income in range 25000-50000 are more like to default followed by perons having salary range 50000-75000."
   ]
  },
  {
   "cell_type": "code",
   "execution_count": 59,
   "id": "f1b14eb6",
   "metadata": {},
   "outputs": [
    {
     "data": {
      "text/plain": [
       "count    35723.000000\n",
       "mean        21.308177\n",
       "std         11.058657\n",
       "min          2.000000\n",
       "25%         13.000000\n",
       "50%         20.000000\n",
       "75%         28.000000\n",
       "max         87.000000\n",
       "Name: total_acc, dtype: float64"
      ]
     },
     "execution_count": 59,
     "metadata": {},
     "output_type": "execute_result"
    }
   ],
   "source": [
    "df['total_acc'].describe()"
   ]
  },
  {
   "cell_type": "code",
   "execution_count": 60,
   "id": "b4227474",
   "metadata": {},
   "outputs": [
    {
     "data": {
      "text/plain": [
       "<AxesSubplot:xlabel='total_acc_bin', ylabel='count'>"
      ]
     },
     "execution_count": 60,
     "metadata": {},
     "output_type": "execute_result"
    },
    {
     "data": {
      "image/png": "[encoded data removed]",
      "text/plain": [
       "<Figure size 640x480 with 1 Axes>"
      ]
     },
     "metadata": {},
     "output_type": "display_data"
    }
   ],
   "source": [
    "df['total_acc_bin'] = pd.cut(df['total_acc'], bins=5,precision=0, labels=['0-20','20-40','40-60','60-80','80-100'])\n",
    "sns.countplot(x='total_acc_bin', data=df[df['loan_status'] == 'Charged Off'])"
   ]
  },
  {
   "cell_type": "markdown",
   "id": "9b4001c4",
   "metadata": {},
   "source": [
    "### Observation\n",
    "\n",
    "- Person with less than 20 number of total account are more likely to default."
   ]
  },
  {
   "cell_type": "code",
   "execution_count": 61,
   "id": "67826446",
   "metadata": {},
   "outputs": [
    {
     "data": {
      "text/plain": [
       "<AxesSubplot:xlabel='issue_Year', ylabel='count'>"
      ]
     },
     "execution_count": 61,
     "metadata": {},
     "output_type": "execute_result"
    },
    {
     "data": {
      "image/png": "[encoded data removed]",
      "text/plain": [
       "<Figure size 1200x1200 with 2 Axes>"
      ]
     },
     "metadata": {},
     "output_type": "display_data"
    }
   ],
   "source": [
    "plt.figure(figsize=(12,12))\n",
    "plt.subplot(2,2,1)\n",
    "sns.countplot(x='issue_Month', data=df[df['loan_status'] == 'Charged Off'])\n",
    "plt.subplot(2,2,2)\n",
    "sns.countplot(x='issue_Year', data=df[df['loan_status'] == 'Charged Off'])\n"
   ]
  },
  {
   "cell_type": "markdown",
   "id": "ac761502",
   "metadata": {},
   "source": [
    "### Observation\n",
    "\n",
    "- Loans issued in last month of the year has more number of defaulters.\n",
    "- Most of the loans were defaulted that were issued in year 2011"
   ]
  },
  {
   "cell_type": "markdown",
   "id": "72ef1aa7",
   "metadata": {},
   "source": [
    "### Performing Bivariate analysis"
   ]
  },
  {
   "cell_type": "code",
   "execution_count": 62,
   "id": "49883994",
   "metadata": {},
   "outputs": [
    {
     "data": {
      "text/html": [
       "<div>\n",
       "<style scoped>\n",
       "    .dataframe tbody tr th:only-of-type {\n",
       "        vertical-align: middle;\n",
       "    }\n",
       "\n",
       "    .dataframe tbody tr th {\n",
       "        vertical-align: top;\n",
       "    }\n",
       "\n",
       "    .dataframe thead th {\n",
       "        text-align: right;\n",
       "    }\n",
       "</style>\n",
       "<table border=\"1\" class=\"dataframe\">\n",
       "  <thead>\n",
       "    <tr style=\"text-align: right;\">\n",
       "      <th></th>\n",
       "      <th>loan_amnt</th>\n",
       "      <th>annual_inc</th>\n",
       "      <th>total_pymnt</th>\n",
       "      <th>installment</th>\n",
       "      <th>int_rate</th>\n",
       "      <th>dti</th>\n",
       "      <th>emp_length</th>\n",
       "      <th>issue_Month</th>\n",
       "      <th>issue_Year</th>\n",
       "    </tr>\n",
       "  </thead>\n",
       "  <tbody>\n",
       "    <tr>\n",
       "      <th>loan_amnt</th>\n",
       "      <td>1.000000</td>\n",
       "      <td>0.460637</td>\n",
       "      <td>0.667583</td>\n",
       "      <td>0.926371</td>\n",
       "      <td>0.333145</td>\n",
       "      <td>0.086553</td>\n",
       "      <td>0.205732</td>\n",
       "      <td>0.067044</td>\n",
       "      <td>0.119760</td>\n",
       "    </tr>\n",
       "    <tr>\n",
       "      <th>annual_inc</th>\n",
       "      <td>0.460637</td>\n",
       "      <td>1.000000</td>\n",
       "      <td>0.319892</td>\n",
       "      <td>0.454314</td>\n",
       "      <td>0.153348</td>\n",
       "      <td>-0.004735</td>\n",
       "      <td>0.246768</td>\n",
       "      <td>0.034582</td>\n",
       "      <td>0.011416</td>\n",
       "    </tr>\n",
       "    <tr>\n",
       "      <th>total_pymnt</th>\n",
       "      <td>0.667583</td>\n",
       "      <td>0.319892</td>\n",
       "      <td>1.000000</td>\n",
       "      <td>0.656739</td>\n",
       "      <td>0.242490</td>\n",
       "      <td>0.062670</td>\n",
       "      <td>0.162491</td>\n",
       "      <td>0.051194</td>\n",
       "      <td>0.099136</td>\n",
       "    </tr>\n",
       "    <tr>\n",
       "      <th>installment</th>\n",
       "      <td>0.926371</td>\n",
       "      <td>0.454314</td>\n",
       "      <td>0.656739</td>\n",
       "      <td>1.000000</td>\n",
       "      <td>0.313974</td>\n",
       "      <td>0.064894</td>\n",
       "      <td>0.178988</td>\n",
       "      <td>0.048258</td>\n",
       "      <td>0.033063</td>\n",
       "    </tr>\n",
       "    <tr>\n",
       "      <th>int_rate</th>\n",
       "      <td>0.333145</td>\n",
       "      <td>0.153348</td>\n",
       "      <td>0.242490</td>\n",
       "      <td>0.313974</td>\n",
       "      <td>1.000000</td>\n",
       "      <td>0.040344</td>\n",
       "      <td>0.059170</td>\n",
       "      <td>0.076948</td>\n",
       "      <td>0.175940</td>\n",
       "    </tr>\n",
       "    <tr>\n",
       "      <th>dti</th>\n",
       "      <td>0.086553</td>\n",
       "      <td>-0.004735</td>\n",
       "      <td>0.062670</td>\n",
       "      <td>0.064894</td>\n",
       "      <td>0.040344</td>\n",
       "      <td>1.000000</td>\n",
       "      <td>0.063815</td>\n",
       "      <td>0.040643</td>\n",
       "      <td>0.091453</td>\n",
       "    </tr>\n",
       "    <tr>\n",
       "      <th>emp_length</th>\n",
       "      <td>0.205732</td>\n",
       "      <td>0.246768</td>\n",
       "      <td>0.162491</td>\n",
       "      <td>0.178988</td>\n",
       "      <td>0.059170</td>\n",
       "      <td>0.063815</td>\n",
       "      <td>1.000000</td>\n",
       "      <td>0.012118</td>\n",
       "      <td>0.092705</td>\n",
       "    </tr>\n",
       "    <tr>\n",
       "      <th>issue_Month</th>\n",
       "      <td>0.067044</td>\n",
       "      <td>0.034582</td>\n",
       "      <td>0.051194</td>\n",
       "      <td>0.048258</td>\n",
       "      <td>0.076948</td>\n",
       "      <td>0.040643</td>\n",
       "      <td>0.012118</td>\n",
       "      <td>1.000000</td>\n",
       "      <td>0.002787</td>\n",
       "    </tr>\n",
       "    <tr>\n",
       "      <th>issue_Year</th>\n",
       "      <td>0.119760</td>\n",
       "      <td>0.011416</td>\n",
       "      <td>0.099136</td>\n",
       "      <td>0.033063</td>\n",
       "      <td>0.175940</td>\n",
       "      <td>0.091453</td>\n",
       "      <td>0.092705</td>\n",
       "      <td>0.002787</td>\n",
       "      <td>1.000000</td>\n",
       "    </tr>\n",
       "  </tbody>\n",
       "</table>\n",
       "</div>"
      ],
      "text/plain": [
       "             loan_amnt  annual_inc  total_pymnt  installment  int_rate  \\\n",
       "loan_amnt     1.000000    0.460637     0.667583     0.926371  0.333145   \n",
       "annual_inc    0.460637    1.000000     0.319892     0.454314  0.153348   \n",
       "total_pymnt   0.667583    0.319892     1.000000     0.656739  0.242490   \n",
       "installment   0.926371    0.454314     0.656739     1.000000  0.313974   \n",
       "int_rate      0.333145    0.153348     0.242490     0.313974  1.000000   \n",
       "dti           0.086553   -0.004735     0.062670     0.064894  0.040344   \n",
       "emp_length    0.205732    0.246768     0.162491     0.178988  0.059170   \n",
       "issue_Month   0.067044    0.034582     0.051194     0.048258  0.076948   \n",
       "issue_Year    0.119760    0.011416     0.099136     0.033063  0.175940   \n",
       "\n",
       "                  dti  emp_length  issue_Month  issue_Year  \n",
       "loan_amnt    0.086553    0.205732     0.067044    0.119760  \n",
       "annual_inc  -0.004735    0.246768     0.034582    0.011416  \n",
       "total_pymnt  0.062670    0.162491     0.051194    0.099136  \n",
       "installment  0.064894    0.178988     0.048258    0.033063  \n",
       "int_rate     0.040344    0.059170     0.076948    0.175940  \n",
       "dti          1.000000    0.063815     0.040643    0.091453  \n",
       "emp_length   0.063815    1.000000     0.012118    0.092705  \n",
       "issue_Month  0.040643    0.012118     1.000000    0.002787  \n",
       "issue_Year   0.091453    0.092705     0.002787    1.000000  "
      ]
     },
     "execution_count": 62,
     "metadata": {},
     "output_type": "execute_result"
    }
   ],
   "source": [
    "df[df['loan_status'] == 'Charged Off'][['loan_amnt','annual_inc','total_pymnt','installment','int_rate','dti','emp_length','issue_Month','issue_Year']].corr()"
   ]
  },
  {
   "cell_type": "code",
   "execution_count": 63,
   "id": "9994a408",
   "metadata": {},
   "outputs": [
    {
     "data": {
      "image/png": "[encoded data removed]",
      "text/plain": [
       "<Figure size 1200x800 with 4 Axes>"
      ]
     },
     "metadata": {},
     "output_type": "display_data"
    }
   ],
   "source": [
    "sns.clustermap(df[df['loan_status'] == 'Charged Off'][['loan_amnt','annual_inc','total_pymnt','installment','int_rate','dti','emp_length','issue_Month','issue_Year']].corr(), figsize=[12,8],annot=True)\n",
    "plt.show()"
   ]
  },
  {
   "cell_type": "markdown",
   "id": "df36ec67",
   "metadata": {},
   "source": [
    "### Observation\n",
    "\n",
    "- People with higher annual income has lower dti"
   ]
  },
  {
   "cell_type": "code",
   "execution_count": 64,
   "id": "c4062911",
   "metadata": {},
   "outputs": [
    {
     "data": {
      "image/png": "[encoded data removed]",
      "text/plain": [
       "<Figure size 1200x1200 with 1 Axes>"
      ]
     },
     "metadata": {},
     "output_type": "display_data"
    }
   ],
   "source": [
    "plt.figure(figsize = (12,12))\n",
    "sns.barplot(data=df[df['loan_status'] == 'Charged Off'],x='annual_inc',y='purpose',hue=\"loan_status\")\n",
    "plt.show()"
   ]
  },
  {
   "cell_type": "markdown",
   "id": "21a973cf",
   "metadata": {},
   "source": [
    "### Observations\n",
    "\n",
    "- Person with annual income less than 60000 are more likely to default"
   ]
  },
  {
   "cell_type": "code",
   "execution_count": 65,
   "id": "7c758cc7",
   "metadata": {},
   "outputs": [
    {
     "data": {
      "image/png": "[encoded data removed]",
      "text/plain": [
       "<Figure size 1200x1200 with 1 Axes>"
      ]
     },
     "metadata": {},
     "output_type": "display_data"
    }
   ],
   "source": [
    "plt.figure(figsize = (12,12))\n",
    "sns.barplot(data=df[df['loan_status'] == 'Charged Off'],x='home_ownership',y='annual_inc',hue=\"loan_status\")\n",
    "plt.show()"
   ]
  },
  {
   "cell_type": "markdown",
   "id": "613f9c2f",
   "metadata": {},
   "source": [
    "### Observations\n",
    "\n",
    "- Person having mortgage are likely to default even if there annual income is more than 60000\n",
    "- Person having annual income less than 50000 are more like to default independent of the home ownership status"
   ]
  },
  {
   "cell_type": "code",
   "execution_count": 66,
   "id": "fe18cd1e",
   "metadata": {},
   "outputs": [
    {
     "data": {
      "image/png": "[encoded data removed]",
      "text/plain": [
       "<Figure size 1200x1200 with 1 Axes>"
      ]
     },
     "metadata": {},
     "output_type": "display_data"
    }
   ],
   "source": [
    "plt.figure(figsize = (12,12))\n",
    "sns.barplot(data=df[df['loan_status'] != 'Current'],x='grade',y='int_rate',hue=\"loan_status\")\n",
    "plt.show()"
   ]
  },
  {
   "cell_type": "markdown",
   "id": "7c943918",
   "metadata": {},
   "source": [
    "### Observation\n",
    "\n",
    "- Loan of grade G, F and E with higher interest rate are more likely to default."
   ]
  },
  {
   "cell_type": "code",
   "execution_count": 67,
   "id": "01d2056f",
   "metadata": {},
   "outputs": [
    {
     "data": {
      "image/png": "[encoded data removed]",
      "text/plain": [
       "<Figure size 1200x1200 with 1 Axes>"
      ]
     },
     "metadata": {},
     "output_type": "display_data"
    }
   ],
   "source": [
    "plt.figure(figsize = (12,12))\n",
    "sns.barplot(data=df[df['loan_status'] != 'Current'],x='annual_inc_bin',y='int_rate',hue=\"loan_status\")\n",
    "plt.show()"
   ]
  },
  {
   "cell_type": "markdown",
   "id": "c7278869",
   "metadata": {},
   "source": [
    "### Observation\n",
    "\n",
    "- If the Interest rate is higher than 12% than loan is getting defaulted irrespective of the annual income."
   ]
  },
  {
   "cell_type": "markdown",
   "id": "c7e08fe8",
   "metadata": {},
   "source": [
    "## Analysing using pivot table"
   ]
  },
  {
   "cell_type": "code",
   "execution_count": 68,
   "id": "ed5c7797",
   "metadata": {},
   "outputs": [
    {
     "data": {
      "text/html": [
       "<div>\n",
       "<style scoped>\n",
       "    .dataframe tbody tr th:only-of-type {\n",
       "        vertical-align: middle;\n",
       "    }\n",
       "\n",
       "    .dataframe tbody tr th {\n",
       "        vertical-align: top;\n",
       "    }\n",
       "\n",
       "    .dataframe thead th {\n",
       "        text-align: right;\n",
       "    }\n",
       "</style>\n",
       "<table border=\"1\" class=\"dataframe\">\n",
       "  <thead>\n",
       "    <tr style=\"text-align: right;\">\n",
       "      <th>loan_status</th>\n",
       "      <th>annual_inc_bin</th>\n",
       "      <th>Charged Off</th>\n",
       "      <th>Current</th>\n",
       "      <th>Fully Paid</th>\n",
       "      <th>total_loans</th>\n",
       "      <th>Charged_off_percent</th>\n",
       "    </tr>\n",
       "  </thead>\n",
       "  <tbody>\n",
       "    <tr>\n",
       "      <th>0</th>\n",
       "      <td>0-25000</td>\n",
       "      <td>554</td>\n",
       "      <td>36</td>\n",
       "      <td>2340</td>\n",
       "      <td>2930</td>\n",
       "      <td>18.91</td>\n",
       "    </tr>\n",
       "    <tr>\n",
       "      <th>1</th>\n",
       "      <td>25000-50000</td>\n",
       "      <td>1836</td>\n",
       "      <td>281</td>\n",
       "      <td>9300</td>\n",
       "      <td>11417</td>\n",
       "      <td>16.08</td>\n",
       "    </tr>\n",
       "    <tr>\n",
       "      <th>2</th>\n",
       "      <td>50000-75000</td>\n",
       "      <td>1658</td>\n",
       "      <td>337</td>\n",
       "      <td>9511</td>\n",
       "      <td>11506</td>\n",
       "      <td>14.41</td>\n",
       "    </tr>\n",
       "    <tr>\n",
       "      <th>3</th>\n",
       "      <td>75000-100000</td>\n",
       "      <td>800</td>\n",
       "      <td>228</td>\n",
       "      <td>5506</td>\n",
       "      <td>6534</td>\n",
       "      <td>12.24</td>\n",
       "    </tr>\n",
       "    <tr>\n",
       "      <th>4</th>\n",
       "      <td>100000-125000</td>\n",
       "      <td>338</td>\n",
       "      <td>114</td>\n",
       "      <td>2884</td>\n",
       "      <td>3336</td>\n",
       "      <td>10.13</td>\n",
       "    </tr>\n",
       "  </tbody>\n",
       "</table>\n",
       "</div>"
      ],
      "text/plain": [
       "loan_status annual_inc_bin  Charged Off  Current  Fully Paid  total_loans  \\\n",
       "0                  0-25000          554       36        2340         2930   \n",
       "1              25000-50000         1836      281        9300        11417   \n",
       "2              50000-75000         1658      337        9511        11506   \n",
       "3             75000-100000          800      228        5506         6534   \n",
       "4            100000-125000          338      114        2884         3336   \n",
       "\n",
       "loan_status  Charged_off_percent  \n",
       "0                          18.91  \n",
       "1                          16.08  \n",
       "2                          14.41  \n",
       "3                          12.24  \n",
       "4                          10.13  "
      ]
     },
     "execution_count": 68,
     "metadata": {},
     "output_type": "execute_result"
    }
   ],
   "source": [
    "pivot_df_an_inc = df.groupby(['annual_inc_bin','loan_status']).loan_status.count().unstack().fillna(0).reset_index()\n",
    "pivot_df_an_inc['total_loans'] = pivot_df_an_inc['Charged Off'] + pivot_df_an_inc['Current'] + pivot_df_an_inc['Fully Paid']\n",
    "pivot_df_an_inc['Charged_off_percent'] = round(( pivot_df_an_inc['Charged Off'] / pivot_df_an_inc['total_loans'] ) * 100, 2)\n",
    "pivot_df_an_inc.head()"
   ]
  },
  {
   "cell_type": "markdown",
   "id": "af62a341",
   "metadata": {},
   "source": [
    "### Observation\n",
    "\n",
    "- Lower income group have higher percentage of charge off as per the pivot table above.\n",
    "- As the income increases the charge off percentage decreases"
   ]
  },
  {
   "cell_type": "code",
   "execution_count": 69,
   "id": "40b39af9",
   "metadata": {},
   "outputs": [
    {
     "data": {
      "text/html": [
       "<div>\n",
       "<style scoped>\n",
       "    .dataframe tbody tr th:only-of-type {\n",
       "        vertical-align: middle;\n",
       "    }\n",
       "\n",
       "    .dataframe tbody tr th {\n",
       "        vertical-align: top;\n",
       "    }\n",
       "\n",
       "    .dataframe thead th {\n",
       "        text-align: right;\n",
       "    }\n",
       "</style>\n",
       "<table border=\"1\" class=\"dataframe\">\n",
       "  <thead>\n",
       "    <tr style=\"text-align: right;\">\n",
       "      <th>loan_status</th>\n",
       "      <th>purpose</th>\n",
       "      <th>Charged Off</th>\n",
       "      <th>Current</th>\n",
       "      <th>Fully Paid</th>\n",
       "      <th>total_loans</th>\n",
       "      <th>Charged_off_percent</th>\n",
       "    </tr>\n",
       "  </thead>\n",
       "  <tbody>\n",
       "    <tr>\n",
       "      <th>11</th>\n",
       "      <td>small_business</td>\n",
       "      <td>436.0</td>\n",
       "      <td>69.0</td>\n",
       "      <td>1080.0</td>\n",
       "      <td>1585.0</td>\n",
       "      <td>27.51</td>\n",
       "    </tr>\n",
       "    <tr>\n",
       "      <th>10</th>\n",
       "      <td>renewable_energy</td>\n",
       "      <td>18.0</td>\n",
       "      <td>1.0</td>\n",
       "      <td>71.0</td>\n",
       "      <td>90.0</td>\n",
       "      <td>20.00</td>\n",
       "    </tr>\n",
       "    <tr>\n",
       "      <th>3</th>\n",
       "      <td>educational</td>\n",
       "      <td>53.0</td>\n",
       "      <td>0.0</td>\n",
       "      <td>249.0</td>\n",
       "      <td>302.0</td>\n",
       "      <td>17.55</td>\n",
       "    </tr>\n",
       "    <tr>\n",
       "      <th>8</th>\n",
       "      <td>moving</td>\n",
       "      <td>89.0</td>\n",
       "      <td>7.0</td>\n",
       "      <td>426.0</td>\n",
       "      <td>522.0</td>\n",
       "      <td>17.05</td>\n",
       "    </tr>\n",
       "    <tr>\n",
       "      <th>7</th>\n",
       "      <td>medical</td>\n",
       "      <td>98.0</td>\n",
       "      <td>6.0</td>\n",
       "      <td>510.0</td>\n",
       "      <td>614.0</td>\n",
       "      <td>15.96</td>\n",
       "    </tr>\n",
       "    <tr>\n",
       "      <th>9</th>\n",
       "      <td>other</td>\n",
       "      <td>575.0</td>\n",
       "      <td>111.0</td>\n",
       "      <td>2959.0</td>\n",
       "      <td>3645.0</td>\n",
       "      <td>15.78</td>\n",
       "    </tr>\n",
       "    <tr>\n",
       "      <th>5</th>\n",
       "      <td>house</td>\n",
       "      <td>50.0</td>\n",
       "      <td>11.0</td>\n",
       "      <td>269.0</td>\n",
       "      <td>330.0</td>\n",
       "      <td>15.15</td>\n",
       "    </tr>\n",
       "    <tr>\n",
       "      <th>2</th>\n",
       "      <td>debt_consolidation</td>\n",
       "      <td>2574.0</td>\n",
       "      <td>514.0</td>\n",
       "      <td>13926.0</td>\n",
       "      <td>17014.0</td>\n",
       "      <td>15.13</td>\n",
       "    </tr>\n",
       "    <tr>\n",
       "      <th>12</th>\n",
       "      <td>vacation</td>\n",
       "      <td>51.0</td>\n",
       "      <td>5.0</td>\n",
       "      <td>300.0</td>\n",
       "      <td>356.0</td>\n",
       "      <td>14.33</td>\n",
       "    </tr>\n",
       "    <tr>\n",
       "      <th>4</th>\n",
       "      <td>home_improvement</td>\n",
       "      <td>298.0</td>\n",
       "      <td>76.0</td>\n",
       "      <td>2016.0</td>\n",
       "      <td>2390.0</td>\n",
       "      <td>12.47</td>\n",
       "    </tr>\n",
       "    <tr>\n",
       "      <th>1</th>\n",
       "      <td>credit_card</td>\n",
       "      <td>495.0</td>\n",
       "      <td>92.0</td>\n",
       "      <td>4009.0</td>\n",
       "      <td>4596.0</td>\n",
       "      <td>10.77</td>\n",
       "    </tr>\n",
       "    <tr>\n",
       "      <th>0</th>\n",
       "      <td>car</td>\n",
       "      <td>152.0</td>\n",
       "      <td>50.0</td>\n",
       "      <td>1235.0</td>\n",
       "      <td>1437.0</td>\n",
       "      <td>10.58</td>\n",
       "    </tr>\n",
       "    <tr>\n",
       "      <th>6</th>\n",
       "      <td>major_purchase</td>\n",
       "      <td>209.0</td>\n",
       "      <td>35.0</td>\n",
       "      <td>1736.0</td>\n",
       "      <td>1980.0</td>\n",
       "      <td>10.56</td>\n",
       "    </tr>\n",
       "    <tr>\n",
       "      <th>13</th>\n",
       "      <td>wedding</td>\n",
       "      <td>88.0</td>\n",
       "      <td>19.0</td>\n",
       "      <td>755.0</td>\n",
       "      <td>862.0</td>\n",
       "      <td>10.21</td>\n",
       "    </tr>\n",
       "  </tbody>\n",
       "</table>\n",
       "</div>"
      ],
      "text/plain": [
       "loan_status             purpose  Charged Off  Current  Fully Paid  \\\n",
       "11               small_business        436.0     69.0      1080.0   \n",
       "10             renewable_energy         18.0      1.0        71.0   \n",
       "3                   educational         53.0      0.0       249.0   \n",
       "8                        moving         89.0      7.0       426.0   \n",
       "7                       medical         98.0      6.0       510.0   \n",
       "9                         other        575.0    111.0      2959.0   \n",
       "5                         house         50.0     11.0       269.0   \n",
       "2            debt_consolidation       2574.0    514.0     13926.0   \n",
       "12                     vacation         51.0      5.0       300.0   \n",
       "4              home_improvement        298.0     76.0      2016.0   \n",
       "1                   credit_card        495.0     92.0      4009.0   \n",
       "0                           car        152.0     50.0      1235.0   \n",
       "6                major_purchase        209.0     35.0      1736.0   \n",
       "13                      wedding         88.0     19.0       755.0   \n",
       "\n",
       "loan_status  total_loans  Charged_off_percent  \n",
       "11                1585.0                27.51  \n",
       "10                  90.0                20.00  \n",
       "3                  302.0                17.55  \n",
       "8                  522.0                17.05  \n",
       "7                  614.0                15.96  \n",
       "9                 3645.0                15.78  \n",
       "5                  330.0                15.15  \n",
       "2                17014.0                15.13  \n",
       "12                 356.0                14.33  \n",
       "4                 2390.0                12.47  \n",
       "1                 4596.0                10.77  \n",
       "0                 1437.0                10.58  \n",
       "6                 1980.0                10.56  \n",
       "13                 862.0                10.21  "
      ]
     },
     "execution_count": 69,
     "metadata": {},
     "output_type": "execute_result"
    }
   ],
   "source": [
    "pivot_df_purpose = df.groupby(['purpose','loan_status']).loan_status.count().unstack().fillna(0).reset_index()\n",
    "pivot_df_purpose['total_loans'] = pivot_df_purpose['Charged Off'] + pivot_df_purpose['Current'] + pivot_df_purpose['Fully Paid']\n",
    "pivot_df_purpose['Charged_off_percent'] = round(( pivot_df_purpose['Charged Off'] / pivot_df_purpose['total_loans'] ) * 100, 2)\n",
    "pivot_df_purpose.sort_values(by=\"Charged_off_percent\", ascending=False)"
   ]
  },
  {
   "cell_type": "markdown",
   "id": "d7fe1056",
   "metadata": {},
   "source": [
    "### Observation\n",
    "\n",
    "- Loan taken with purpose as small_business and renewable energy are more likely to default.\n",
    "- Loan taken with purpose as credit_card , car , major_purchase, wedding are less likely to default."
   ]
  },
  {
   "cell_type": "code",
   "execution_count": 70,
   "id": "22633baa",
   "metadata": {},
   "outputs": [
    {
     "data": {
      "text/html": [
       "<div>\n",
       "<style scoped>\n",
       "    .dataframe tbody tr th:only-of-type {\n",
       "        vertical-align: middle;\n",
       "    }\n",
       "\n",
       "    .dataframe tbody tr th {\n",
       "        vertical-align: top;\n",
       "    }\n",
       "\n",
       "    .dataframe thead th {\n",
       "        text-align: right;\n",
       "    }\n",
       "</style>\n",
       "<table border=\"1\" class=\"dataframe\">\n",
       "  <thead>\n",
       "    <tr style=\"text-align: right;\">\n",
       "      <th>loan_status</th>\n",
       "      <th>grade</th>\n",
       "      <th>Charged Off</th>\n",
       "      <th>Current</th>\n",
       "      <th>Fully Paid</th>\n",
       "      <th>total_loans</th>\n",
       "      <th>Charged_off_percent</th>\n",
       "    </tr>\n",
       "  </thead>\n",
       "  <tbody>\n",
       "    <tr>\n",
       "      <th>6</th>\n",
       "      <td>G</td>\n",
       "      <td>87</td>\n",
       "      <td>12</td>\n",
       "      <td>139</td>\n",
       "      <td>238</td>\n",
       "      <td>36.55</td>\n",
       "    </tr>\n",
       "    <tr>\n",
       "      <th>5</th>\n",
       "      <td>F</td>\n",
       "      <td>266</td>\n",
       "      <td>53</td>\n",
       "      <td>540</td>\n",
       "      <td>859</td>\n",
       "      <td>30.97</td>\n",
       "    </tr>\n",
       "    <tr>\n",
       "      <th>4</th>\n",
       "      <td>E</td>\n",
       "      <td>617</td>\n",
       "      <td>150</td>\n",
       "      <td>1638</td>\n",
       "      <td>2405</td>\n",
       "      <td>25.65</td>\n",
       "    </tr>\n",
       "    <tr>\n",
       "      <th>3</th>\n",
       "      <td>D</td>\n",
       "      <td>1024</td>\n",
       "      <td>197</td>\n",
       "      <td>3536</td>\n",
       "      <td>4757</td>\n",
       "      <td>21.53</td>\n",
       "    </tr>\n",
       "    <tr>\n",
       "      <th>2</th>\n",
       "      <td>C</td>\n",
       "      <td>1277</td>\n",
       "      <td>235</td>\n",
       "      <td>5842</td>\n",
       "      <td>7354</td>\n",
       "      <td>17.36</td>\n",
       "    </tr>\n",
       "    <tr>\n",
       "      <th>1</th>\n",
       "      <td>B</td>\n",
       "      <td>1338</td>\n",
       "      <td>310</td>\n",
       "      <td>9253</td>\n",
       "      <td>10901</td>\n",
       "      <td>12.27</td>\n",
       "    </tr>\n",
       "    <tr>\n",
       "      <th>0</th>\n",
       "      <td>A</td>\n",
       "      <td>577</td>\n",
       "      <td>39</td>\n",
       "      <td>8593</td>\n",
       "      <td>9209</td>\n",
       "      <td>6.27</td>\n",
       "    </tr>\n",
       "  </tbody>\n",
       "</table>\n",
       "</div>"
      ],
      "text/plain": [
       "loan_status grade  Charged Off  Current  Fully Paid  total_loans  \\\n",
       "6               G           87       12         139          238   \n",
       "5               F          266       53         540          859   \n",
       "4               E          617      150        1638         2405   \n",
       "3               D         1024      197        3536         4757   \n",
       "2               C         1277      235        5842         7354   \n",
       "1               B         1338      310        9253        10901   \n",
       "0               A          577       39        8593         9209   \n",
       "\n",
       "loan_status  Charged_off_percent  \n",
       "6                          36.55  \n",
       "5                          30.97  \n",
       "4                          25.65  \n",
       "3                          21.53  \n",
       "2                          17.36  \n",
       "1                          12.27  \n",
       "0                           6.27  "
      ]
     },
     "execution_count": 70,
     "metadata": {},
     "output_type": "execute_result"
    }
   ],
   "source": [
    "pivot_df_grade = df.groupby(['grade','loan_status']).loan_status.count().unstack().fillna(0).reset_index()\n",
    "pivot_df_grade['total_loans'] = pivot_df_grade['Charged Off'] + pivot_df_grade['Current'] + pivot_df_grade['Fully Paid']\n",
    "pivot_df_grade['Charged_off_percent'] = round(( pivot_df_grade['Charged Off'] / pivot_df_grade['total_loans'] ) * 100, 2)\n",
    "pivot_df_grade.sort_values(by=\"Charged_off_percent\", ascending=False)"
   ]
  },
  {
   "cell_type": "markdown",
   "id": "1e677323",
   "metadata": {},
   "source": [
    "### Observation\n",
    "\n",
    "- Loan with grade as G and F have higher chances of getting default\n",
    "- Loan with grade as A has the lowest chances of getting default"
   ]
  },
  {
   "cell_type": "code",
   "execution_count": 71,
   "id": "829b32ef",
   "metadata": {},
   "outputs": [
    {
     "data": {
      "text/html": [
       "<div>\n",
       "<style scoped>\n",
       "    .dataframe tbody tr th:only-of-type {\n",
       "        vertical-align: middle;\n",
       "    }\n",
       "\n",
       "    .dataframe tbody tr th {\n",
       "        vertical-align: top;\n",
       "    }\n",
       "\n",
       "    .dataframe thead th {\n",
       "        text-align: right;\n",
       "    }\n",
       "</style>\n",
       "<table border=\"1\" class=\"dataframe\">\n",
       "  <thead>\n",
       "    <tr style=\"text-align: right;\">\n",
       "      <th>loan_status</th>\n",
       "      <th>int_rate_bin</th>\n",
       "      <th>Charged Off</th>\n",
       "      <th>Current</th>\n",
       "      <th>Fully Paid</th>\n",
       "      <th>total_loans</th>\n",
       "      <th>Charged_off_percent</th>\n",
       "    </tr>\n",
       "  </thead>\n",
       "  <tbody>\n",
       "    <tr>\n",
       "      <th>4</th>\n",
       "      <td>21-24%</td>\n",
       "      <td>176</td>\n",
       "      <td>59</td>\n",
       "      <td>230</td>\n",
       "      <td>465</td>\n",
       "      <td>37.85</td>\n",
       "    </tr>\n",
       "    <tr>\n",
       "      <th>3</th>\n",
       "      <td>17-21%</td>\n",
       "      <td>864</td>\n",
       "      <td>273</td>\n",
       "      <td>1992</td>\n",
       "      <td>3129</td>\n",
       "      <td>27.61</td>\n",
       "    </tr>\n",
       "    <tr>\n",
       "      <th>2</th>\n",
       "      <td>13-17%</td>\n",
       "      <td>1864</td>\n",
       "      <td>279</td>\n",
       "      <td>7770</td>\n",
       "      <td>9913</td>\n",
       "      <td>18.80</td>\n",
       "    </tr>\n",
       "    <tr>\n",
       "      <th>1</th>\n",
       "      <td>9-13%</td>\n",
       "      <td>1719</td>\n",
       "      <td>344</td>\n",
       "      <td>11134</td>\n",
       "      <td>13197</td>\n",
       "      <td>13.03</td>\n",
       "    </tr>\n",
       "    <tr>\n",
       "      <th>0</th>\n",
       "      <td>5-9%</td>\n",
       "      <td>563</td>\n",
       "      <td>41</td>\n",
       "      <td>8415</td>\n",
       "      <td>9019</td>\n",
       "      <td>6.24</td>\n",
       "    </tr>\n",
       "  </tbody>\n",
       "</table>\n",
       "</div>"
      ],
      "text/plain": [
       "loan_status int_rate_bin  Charged Off  Current  Fully Paid  total_loans  \\\n",
       "4                 21-24%          176       59         230          465   \n",
       "3                 17-21%          864      273        1992         3129   \n",
       "2                 13-17%         1864      279        7770         9913   \n",
       "1                  9-13%         1719      344       11134        13197   \n",
       "0                   5-9%          563       41        8415         9019   \n",
       "\n",
       "loan_status  Charged_off_percent  \n",
       "4                          37.85  \n",
       "3                          27.61  \n",
       "2                          18.80  \n",
       "1                          13.03  \n",
       "0                           6.24  "
      ]
     },
     "execution_count": 71,
     "metadata": {},
     "output_type": "execute_result"
    }
   ],
   "source": [
    "pivot_df_intRate = df.groupby(['int_rate_bin','loan_status']).loan_status.count().unstack().fillna(0).reset_index()\n",
    "pivot_df_intRate['total_loans'] = pivot_df_intRate['Charged Off'] + pivot_df_intRate['Current'] + pivot_df_intRate['Fully Paid']\n",
    "pivot_df_intRate['Charged_off_percent'] = round(( pivot_df_intRate['Charged Off'] / pivot_df_intRate['total_loans'] ) * 100, 2)\n",
    "pivot_df_intRate.sort_values(by=\"Charged_off_percent\", ascending=False)"
   ]
  },
  {
   "cell_type": "markdown",
   "id": "30884e24",
   "metadata": {},
   "source": [
    "### Observation\n",
    "\n",
    "- Loan with higher interest rate has higher percentage of charge off\n",
    "- As interest rate reduces percentage of charge off also reduces"
   ]
  },
  {
   "cell_type": "code",
   "execution_count": 72,
   "id": "609f791d",
   "metadata": {},
   "outputs": [
    {
     "data": {
      "text/html": [
       "<div>\n",
       "<style scoped>\n",
       "    .dataframe tbody tr th:only-of-type {\n",
       "        vertical-align: middle;\n",
       "    }\n",
       "\n",
       "    .dataframe tbody tr th {\n",
       "        vertical-align: top;\n",
       "    }\n",
       "\n",
       "    .dataframe thead th {\n",
       "        text-align: right;\n",
       "    }\n",
       "</style>\n",
       "<table border=\"1\" class=\"dataframe\">\n",
       "  <thead>\n",
       "    <tr style=\"text-align: right;\">\n",
       "      <th>loan_status</th>\n",
       "      <th>emp_length</th>\n",
       "      <th>Charged Off</th>\n",
       "      <th>Current</th>\n",
       "      <th>Fully Paid</th>\n",
       "      <th>total_loans</th>\n",
       "      <th>Charged_off_percent</th>\n",
       "    </tr>\n",
       "  </thead>\n",
       "  <tbody>\n",
       "    <tr>\n",
       "      <th>0</th>\n",
       "      <td>0</td>\n",
       "      <td>224</td>\n",
       "      <td>41</td>\n",
       "      <td>773</td>\n",
       "      <td>1038</td>\n",
       "      <td>21.58</td>\n",
       "    </tr>\n",
       "    <tr>\n",
       "      <th>10</th>\n",
       "      <td>10</td>\n",
       "      <td>1196</td>\n",
       "      <td>322</td>\n",
       "      <td>6091</td>\n",
       "      <td>7609</td>\n",
       "      <td>15.72</td>\n",
       "    </tr>\n",
       "    <tr>\n",
       "      <th>7</th>\n",
       "      <td>7</td>\n",
       "      <td>241</td>\n",
       "      <td>56</td>\n",
       "      <td>1324</td>\n",
       "      <td>1621</td>\n",
       "      <td>14.87</td>\n",
       "    </tr>\n",
       "    <tr>\n",
       "      <th>1</th>\n",
       "      <td>1</td>\n",
       "      <td>1024</td>\n",
       "      <td>132</td>\n",
       "      <td>6009</td>\n",
       "      <td>7165</td>\n",
       "      <td>14.29</td>\n",
       "    </tr>\n",
       "    <tr>\n",
       "      <th>5</th>\n",
       "      <td>5</td>\n",
       "      <td>422</td>\n",
       "      <td>76</td>\n",
       "      <td>2487</td>\n",
       "      <td>2985</td>\n",
       "      <td>14.14</td>\n",
       "    </tr>\n",
       "    <tr>\n",
       "      <th>3</th>\n",
       "      <td>3</td>\n",
       "      <td>517</td>\n",
       "      <td>71</td>\n",
       "      <td>3114</td>\n",
       "      <td>3702</td>\n",
       "      <td>13.97</td>\n",
       "    </tr>\n",
       "    <tr>\n",
       "      <th>6</th>\n",
       "      <td>6</td>\n",
       "      <td>281</td>\n",
       "      <td>57</td>\n",
       "      <td>1692</td>\n",
       "      <td>2030</td>\n",
       "      <td>13.84</td>\n",
       "    </tr>\n",
       "    <tr>\n",
       "      <th>8</th>\n",
       "      <td>8</td>\n",
       "      <td>180</td>\n",
       "      <td>40</td>\n",
       "      <td>1082</td>\n",
       "      <td>1302</td>\n",
       "      <td>13.82</td>\n",
       "    </tr>\n",
       "    <tr>\n",
       "      <th>4</th>\n",
       "      <td>4</td>\n",
       "      <td>428</td>\n",
       "      <td>89</td>\n",
       "      <td>2622</td>\n",
       "      <td>3139</td>\n",
       "      <td>13.63</td>\n",
       "    </tr>\n",
       "    <tr>\n",
       "      <th>2</th>\n",
       "      <td>2</td>\n",
       "      <td>530</td>\n",
       "      <td>84</td>\n",
       "      <td>3405</td>\n",
       "      <td>4019</td>\n",
       "      <td>13.19</td>\n",
       "    </tr>\n",
       "    <tr>\n",
       "      <th>9</th>\n",
       "      <td>9</td>\n",
       "      <td>143</td>\n",
       "      <td>28</td>\n",
       "      <td>942</td>\n",
       "      <td>1113</td>\n",
       "      <td>12.85</td>\n",
       "    </tr>\n",
       "  </tbody>\n",
       "</table>\n",
       "</div>"
      ],
      "text/plain": [
       "loan_status  emp_length  Charged Off  Current  Fully Paid  total_loans  \\\n",
       "0                     0          224       41         773         1038   \n",
       "10                   10         1196      322        6091         7609   \n",
       "7                     7          241       56        1324         1621   \n",
       "1                     1         1024      132        6009         7165   \n",
       "5                     5          422       76        2487         2985   \n",
       "3                     3          517       71        3114         3702   \n",
       "6                     6          281       57        1692         2030   \n",
       "8                     8          180       40        1082         1302   \n",
       "4                     4          428       89        2622         3139   \n",
       "2                     2          530       84        3405         4019   \n",
       "9                     9          143       28         942         1113   \n",
       "\n",
       "loan_status  Charged_off_percent  \n",
       "0                          21.58  \n",
       "10                         15.72  \n",
       "7                          14.87  \n",
       "1                          14.29  \n",
       "5                          14.14  \n",
       "3                          13.97  \n",
       "6                          13.84  \n",
       "8                          13.82  \n",
       "4                          13.63  \n",
       "2                          13.19  \n",
       "9                          12.85  "
      ]
     },
     "execution_count": 72,
     "metadata": {},
     "output_type": "execute_result"
    }
   ],
   "source": [
    "pivot_df_emp_length = df.groupby(['emp_length','loan_status']).loan_status.count().unstack().fillna(0).reset_index()\n",
    "pivot_df_emp_length['total_loans'] = pivot_df_emp_length['Charged Off'] + pivot_df_emp_length['Current'] + pivot_df_emp_length['Fully Paid']\n",
    "pivot_df_emp_length['Charged_off_percent'] = round(( pivot_df_emp_length['Charged Off'] / pivot_df_emp_length['total_loans'] ) * 100, 2)\n",
    "pivot_df_emp_length.sort_values(by=\"Charged_off_percent\", ascending=False)"
   ]
  },
  {
   "cell_type": "markdown",
   "id": "4b888aaa",
   "metadata": {},
   "source": [
    "### Observation \n",
    "\n",
    "- Employee with work experience less than 1 year are more likely to default\n",
    "- Employee with work experience more than 1 year and less than equal 9 years are less likely to default"
   ]
  },
  {
   "cell_type": "code",
   "execution_count": 73,
   "id": "1e5137a5",
   "metadata": {},
   "outputs": [
    {
     "data": {
      "text/html": [
       "<div>\n",
       "<style scoped>\n",
       "    .dataframe tbody tr th:only-of-type {\n",
       "        vertical-align: middle;\n",
       "    }\n",
       "\n",
       "    .dataframe tbody tr th {\n",
       "        vertical-align: top;\n",
       "    }\n",
       "\n",
       "    .dataframe thead th {\n",
       "        text-align: right;\n",
       "    }\n",
       "</style>\n",
       "<table border=\"1\" class=\"dataframe\">\n",
       "  <thead>\n",
       "    <tr style=\"text-align: right;\">\n",
       "      <th>loan_status</th>\n",
       "      <th>open_acc_bin</th>\n",
       "      <th>Charged Off</th>\n",
       "      <th>Current</th>\n",
       "      <th>Fully Paid</th>\n",
       "      <th>total_loans</th>\n",
       "      <th>Charged_off_percent</th>\n",
       "    </tr>\n",
       "  </thead>\n",
       "  <tbody>\n",
       "    <tr>\n",
       "      <th>3</th>\n",
       "      <td>30-40</td>\n",
       "      <td>15</td>\n",
       "      <td>1</td>\n",
       "      <td>56</td>\n",
       "      <td>72</td>\n",
       "      <td>20.83</td>\n",
       "    </tr>\n",
       "    <tr>\n",
       "      <th>2</th>\n",
       "      <td>20-30</td>\n",
       "      <td>165</td>\n",
       "      <td>35</td>\n",
       "      <td>893</td>\n",
       "      <td>1093</td>\n",
       "      <td>15.10</td>\n",
       "    </tr>\n",
       "    <tr>\n",
       "      <th>0</th>\n",
       "      <td>0-10</td>\n",
       "      <td>3583</td>\n",
       "      <td>645</td>\n",
       "      <td>20229</td>\n",
       "      <td>24457</td>\n",
       "      <td>14.65</td>\n",
       "    </tr>\n",
       "    <tr>\n",
       "      <th>1</th>\n",
       "      <td>10-20</td>\n",
       "      <td>1422</td>\n",
       "      <td>315</td>\n",
       "      <td>8356</td>\n",
       "      <td>10093</td>\n",
       "      <td>14.09</td>\n",
       "    </tr>\n",
       "    <tr>\n",
       "      <th>4</th>\n",
       "      <td>40-50</td>\n",
       "      <td>1</td>\n",
       "      <td>0</td>\n",
       "      <td>7</td>\n",
       "      <td>8</td>\n",
       "      <td>12.50</td>\n",
       "    </tr>\n",
       "  </tbody>\n",
       "</table>\n",
       "</div>"
      ],
      "text/plain": [
       "loan_status open_acc_bin  Charged Off  Current  Fully Paid  total_loans  \\\n",
       "3                  30-40           15        1          56           72   \n",
       "2                  20-30          165       35         893         1093   \n",
       "0                   0-10         3583      645       20229        24457   \n",
       "1                  10-20         1422      315        8356        10093   \n",
       "4                  40-50            1        0           7            8   \n",
       "\n",
       "loan_status  Charged_off_percent  \n",
       "3                          20.83  \n",
       "2                          15.10  \n",
       "0                          14.65  \n",
       "1                          14.09  \n",
       "4                          12.50  "
      ]
     },
     "execution_count": 73,
     "metadata": {},
     "output_type": "execute_result"
    }
   ],
   "source": [
    "pivot_df_open_acc = df.groupby(['open_acc_bin','loan_status']).loan_status.count().unstack().fillna(0).reset_index()\n",
    "pivot_df_open_acc['total_loans'] = pivot_df_open_acc['Charged Off'] + pivot_df_open_acc['Current'] + pivot_df_open_acc['Fully Paid']\n",
    "pivot_df_open_acc['Charged_off_percent'] = round(( pivot_df_open_acc['Charged Off'] / pivot_df_open_acc['total_loans'] ) * 100, 2)\n",
    "pivot_df_open_acc.sort_values(by=\"Charged_off_percent\", ascending=False)"
   ]
  },
  {
   "cell_type": "markdown",
   "id": "4a29cbdd",
   "metadata": {},
   "source": [
    "### Observation \n",
    "\n",
    "- People having 30-40 open accounts are more likely to default\n",
    "- People having more than 40 open accounts are less likely to default"
   ]
  },
  {
   "cell_type": "code",
   "execution_count": 74,
   "id": "6c13bcdc",
   "metadata": {},
   "outputs": [
    {
     "data": {
      "text/html": [
       "<div>\n",
       "<style scoped>\n",
       "    .dataframe tbody tr th:only-of-type {\n",
       "        vertical-align: middle;\n",
       "    }\n",
       "\n",
       "    .dataframe tbody tr th {\n",
       "        vertical-align: top;\n",
       "    }\n",
       "\n",
       "    .dataframe thead th {\n",
       "        text-align: right;\n",
       "    }\n",
       "</style>\n",
       "<table border=\"1\" class=\"dataframe\">\n",
       "  <thead>\n",
       "    <tr style=\"text-align: right;\">\n",
       "      <th>loan_status</th>\n",
       "      <th>total_acc_bin</th>\n",
       "      <th>Charged Off</th>\n",
       "      <th>Current</th>\n",
       "      <th>Fully Paid</th>\n",
       "      <th>total_loans</th>\n",
       "      <th>Charged_off_percent</th>\n",
       "    </tr>\n",
       "  </thead>\n",
       "  <tbody>\n",
       "    <tr>\n",
       "      <th>0</th>\n",
       "      <td>0-20</td>\n",
       "      <td>2695</td>\n",
       "      <td>430</td>\n",
       "      <td>14506</td>\n",
       "      <td>17631</td>\n",
       "      <td>15.29</td>\n",
       "    </tr>\n",
       "    <tr>\n",
       "      <th>2</th>\n",
       "      <td>40-60</td>\n",
       "      <td>447</td>\n",
       "      <td>92</td>\n",
       "      <td>2557</td>\n",
       "      <td>3096</td>\n",
       "      <td>14.44</td>\n",
       "    </tr>\n",
       "    <tr>\n",
       "      <th>1</th>\n",
       "      <td>20-40</td>\n",
       "      <td>1992</td>\n",
       "      <td>469</td>\n",
       "      <td>12146</td>\n",
       "      <td>14607</td>\n",
       "      <td>13.64</td>\n",
       "    </tr>\n",
       "    <tr>\n",
       "      <th>3</th>\n",
       "      <td>60-80</td>\n",
       "      <td>51</td>\n",
       "      <td>5</td>\n",
       "      <td>322</td>\n",
       "      <td>378</td>\n",
       "      <td>13.49</td>\n",
       "    </tr>\n",
       "    <tr>\n",
       "      <th>4</th>\n",
       "      <td>80-100</td>\n",
       "      <td>1</td>\n",
       "      <td>0</td>\n",
       "      <td>10</td>\n",
       "      <td>11</td>\n",
       "      <td>9.09</td>\n",
       "    </tr>\n",
       "  </tbody>\n",
       "</table>\n",
       "</div>"
      ],
      "text/plain": [
       "loan_status total_acc_bin  Charged Off  Current  Fully Paid  total_loans  \\\n",
       "0                    0-20         2695      430       14506        17631   \n",
       "2                   40-60          447       92        2557         3096   \n",
       "1                   20-40         1992      469       12146        14607   \n",
       "3                   60-80           51        5         322          378   \n",
       "4                  80-100            1        0          10           11   \n",
       "\n",
       "loan_status  Charged_off_percent  \n",
       "0                          15.29  \n",
       "2                          14.44  \n",
       "1                          13.64  \n",
       "3                          13.49  \n",
       "4                           9.09  "
      ]
     },
     "execution_count": 74,
     "metadata": {},
     "output_type": "execute_result"
    }
   ],
   "source": [
    "pivot_df_total_acc = df.groupby(['total_acc_bin','loan_status']).loan_status.count().unstack().fillna(0).reset_index()\n",
    "pivot_df_total_acc['total_loans'] = pivot_df_total_acc['Charged Off'] + pivot_df_total_acc['Current'] + pivot_df_total_acc['Fully Paid']\n",
    "pivot_df_total_acc['Charged_off_percent'] = round(( pivot_df_total_acc['Charged Off'] / pivot_df_total_acc['total_loans'] ) * 100, 2)\n",
    "pivot_df_total_acc.sort_values(by=\"Charged_off_percent\", ascending=False)"
   ]
  },
  {
   "cell_type": "markdown",
   "id": "87c55b65",
   "metadata": {},
   "source": [
    "### Observation \n",
    "\n",
    "- People having less than 20 total accounts are more likely to default\n",
    "- People having more than 80 total accounts are less likely to default"
   ]
  },
  {
   "cell_type": "code",
   "execution_count": 75,
   "id": "c012bf20",
   "metadata": {},
   "outputs": [
    {
     "data": {
      "text/html": [
       "<div>\n",
       "<style scoped>\n",
       "    .dataframe tbody tr th:only-of-type {\n",
       "        vertical-align: middle;\n",
       "    }\n",
       "\n",
       "    .dataframe tbody tr th {\n",
       "        vertical-align: top;\n",
       "    }\n",
       "\n",
       "    .dataframe thead th {\n",
       "        text-align: right;\n",
       "    }\n",
       "</style>\n",
       "<table border=\"1\" class=\"dataframe\">\n",
       "  <thead>\n",
       "    <tr style=\"text-align: right;\">\n",
       "      <th>loan_status</th>\n",
       "      <th>issue_Month</th>\n",
       "      <th>Charged Off</th>\n",
       "      <th>Current</th>\n",
       "      <th>Fully Paid</th>\n",
       "      <th>total_loans</th>\n",
       "      <th>Charged_off_percent</th>\n",
       "    </tr>\n",
       "  </thead>\n",
       "  <tbody>\n",
       "    <tr>\n",
       "      <th>8</th>\n",
       "      <td>9</td>\n",
       "      <td>512.0</td>\n",
       "      <td>133.0</td>\n",
       "      <td>2584.0</td>\n",
       "      <td>3229.0</td>\n",
       "      <td>15.86</td>\n",
       "    </tr>\n",
       "    <tr>\n",
       "      <th>11</th>\n",
       "      <td>12</td>\n",
       "      <td>634.0</td>\n",
       "      <td>195.0</td>\n",
       "      <td>3174.0</td>\n",
       "      <td>4003.0</td>\n",
       "      <td>15.84</td>\n",
       "    </tr>\n",
       "    <tr>\n",
       "      <th>4</th>\n",
       "      <td>5</td>\n",
       "      <td>431.0</td>\n",
       "      <td>71.0</td>\n",
       "      <td>2220.0</td>\n",
       "      <td>2722.0</td>\n",
       "      <td>15.83</td>\n",
       "    </tr>\n",
       "    <tr>\n",
       "      <th>9</th>\n",
       "      <td>10</td>\n",
       "      <td>523.0</td>\n",
       "      <td>147.0</td>\n",
       "      <td>2818.0</td>\n",
       "      <td>3488.0</td>\n",
       "      <td>14.99</td>\n",
       "    </tr>\n",
       "    <tr>\n",
       "      <th>5</th>\n",
       "      <td>6</td>\n",
       "      <td>435.0</td>\n",
       "      <td>92.0</td>\n",
       "      <td>2406.0</td>\n",
       "      <td>2933.0</td>\n",
       "      <td>14.83</td>\n",
       "    </tr>\n",
       "    <tr>\n",
       "      <th>10</th>\n",
       "      <td>11</td>\n",
       "      <td>555.0</td>\n",
       "      <td>132.0</td>\n",
       "      <td>3063.0</td>\n",
       "      <td>3750.0</td>\n",
       "      <td>14.80</td>\n",
       "    </tr>\n",
       "    <tr>\n",
       "      <th>0</th>\n",
       "      <td>1</td>\n",
       "      <td>299.0</td>\n",
       "      <td>0.0</td>\n",
       "      <td>1844.0</td>\n",
       "      <td>2143.0</td>\n",
       "      <td>13.95</td>\n",
       "    </tr>\n",
       "    <tr>\n",
       "      <th>7</th>\n",
       "      <td>8</td>\n",
       "      <td>437.0</td>\n",
       "      <td>108.0</td>\n",
       "      <td>2605.0</td>\n",
       "      <td>3150.0</td>\n",
       "      <td>13.87</td>\n",
       "    </tr>\n",
       "    <tr>\n",
       "      <th>6</th>\n",
       "      <td>7</td>\n",
       "      <td>437.0</td>\n",
       "      <td>114.0</td>\n",
       "      <td>2608.0</td>\n",
       "      <td>3159.0</td>\n",
       "      <td>13.83</td>\n",
       "    </tr>\n",
       "    <tr>\n",
       "      <th>2</th>\n",
       "      <td>3</td>\n",
       "      <td>320.0</td>\n",
       "      <td>1.0</td>\n",
       "      <td>2117.0</td>\n",
       "      <td>2438.0</td>\n",
       "      <td>13.13</td>\n",
       "    </tr>\n",
       "    <tr>\n",
       "      <th>3</th>\n",
       "      <td>4</td>\n",
       "      <td>336.0</td>\n",
       "      <td>3.0</td>\n",
       "      <td>2230.0</td>\n",
       "      <td>2569.0</td>\n",
       "      <td>13.08</td>\n",
       "    </tr>\n",
       "    <tr>\n",
       "      <th>1</th>\n",
       "      <td>2</td>\n",
       "      <td>267.0</td>\n",
       "      <td>0.0</td>\n",
       "      <td>1872.0</td>\n",
       "      <td>2139.0</td>\n",
       "      <td>12.48</td>\n",
       "    </tr>\n",
       "  </tbody>\n",
       "</table>\n",
       "</div>"
      ],
      "text/plain": [
       "loan_status  issue_Month  Charged Off  Current  Fully Paid  total_loans  \\\n",
       "8                      9        512.0    133.0      2584.0       3229.0   \n",
       "11                    12        634.0    195.0      3174.0       4003.0   \n",
       "4                      5        431.0     71.0      2220.0       2722.0   \n",
       "9                     10        523.0    147.0      2818.0       3488.0   \n",
       "5                      6        435.0     92.0      2406.0       2933.0   \n",
       "10                    11        555.0    132.0      3063.0       3750.0   \n",
       "0                      1        299.0      0.0      1844.0       2143.0   \n",
       "7                      8        437.0    108.0      2605.0       3150.0   \n",
       "6                      7        437.0    114.0      2608.0       3159.0   \n",
       "2                      3        320.0      1.0      2117.0       2438.0   \n",
       "3                      4        336.0      3.0      2230.0       2569.0   \n",
       "1                      2        267.0      0.0      1872.0       2139.0   \n",
       "\n",
       "loan_status  Charged_off_percent  \n",
       "8                          15.86  \n",
       "11                         15.84  \n",
       "4                          15.83  \n",
       "9                          14.99  \n",
       "5                          14.83  \n",
       "10                         14.80  \n",
       "0                          13.95  \n",
       "7                          13.87  \n",
       "6                          13.83  \n",
       "2                          13.13  \n",
       "3                          13.08  \n",
       "1                          12.48  "
      ]
     },
     "execution_count": 75,
     "metadata": {},
     "output_type": "execute_result"
    }
   ],
   "source": [
    "pivot_df_issue_Month = df.groupby(['issue_Month','loan_status']).loan_status.count().unstack().fillna(0).reset_index()\n",
    "pivot_df_issue_Month['total_loans'] = pivot_df_issue_Month['Charged Off'] + pivot_df_issue_Month['Current'] + pivot_df_issue_Month['Fully Paid']\n",
    "pivot_df_issue_Month['Charged_off_percent'] = round(( pivot_df_issue_Month['Charged Off'] / pivot_df_issue_Month['total_loans'] ) * 100, 2)\n",
    "pivot_df_issue_Month.sort_values(by=\"Charged_off_percent\", ascending=False)"
   ]
  },
  {
   "cell_type": "markdown",
   "id": "30a209b8",
   "metadata": {},
   "source": [
    "### Observation\n",
    "\n",
    "- Loans issued in month of September has higher chances of getting defaulted."
   ]
  },
  {
   "cell_type": "markdown",
   "id": "8029bc7d",
   "metadata": {},
   "source": [
    "## Summary\n",
    "\n",
    "- Most loans were taken for the purpose of debt_consolidation.\n",
    "- Most loans were taken of grade B.\n",
    "- Most loans were taken by person Renting a house.\n",
    "- Most of the loans defaulters are people without owning house.\n",
    "- Loans of grade G,F,E with higher interest rate are more likely to default.\n",
    "- People with lower annual income are more likely to deafult.\n",
    "- Loans with higher interest rate are more likely to default.\n",
    "- People with less number of open account and less number of total account are more likely to default.\n",
    "- People with experince less than 1 year are more likely to default.\n",
    "- Loan taken with purpose as small_business and renewable energy are more likely to default but the highest number of loans defaulted were taken for debt_consolidation purpose.\n",
    "- 2011 was a different year with highest number of defaulted loans."
   ]
  },
  {
   "cell_type": "code",
   "execution_count": null,
   "id": "453289ae",
   "metadata": {},
   "outputs": [],
   "source": []
  }
 ],
 "metadata": {
  "kernelspec": {
   "display_name": "Python 3 (ipykernel)",
   "language": "python",
   "name": "python3"
  },
  "language_info": {
   "codemirror_mode": {
    "name": "ipython",
    "version": 3
   },
   "file_extension": ".py",
   "mimetype": "text/x-python",
   "name": "python",
   "nbconvert_exporter": "python",
   "pygments_lexer": "ipython3",
   "version": "3.9.13"
  }
 },
 "nbformat": 4,
 "nbformat_minor": 5
}
